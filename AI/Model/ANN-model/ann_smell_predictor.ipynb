{
  "cells": [
    {
      "cell_type": "markdown",
      "metadata": {
        "id": "lP6JLo1tGNBg"
      },
      "source": [
        "# Artificial Neural Network"
      ]
    },
    {
      "cell_type": "markdown",
      "metadata": {
        "id": "gWZyYmS_UE_L"
      },
      "source": [
        "### Importing the libraries"
      ]
    },
    {
      "cell_type": "code",
      "execution_count": 7,
      "metadata": {
        "id": "x4NQQYRHLZ8K"
      },
      "outputs": [],
      "source": [
        "import numpy as np\n",
        "import pandas as pd\n",
        "import tensorflow as tf"
      ]
    },
    {
      "cell_type": "code",
      "execution_count": 8,
      "metadata": {
        "colab": {
          "base_uri": "https://localhost:8080/",
          "height": 35
        },
        "id": "-aT6trbuLsCI",
        "outputId": "ebab615a-777f-48dc-c060-93e544413296"
      },
      "outputs": [
        {
          "data": {
            "text/plain": [
              "'2.20.0'"
            ]
          },
          "execution_count": 8,
          "metadata": {},
          "output_type": "execute_result"
        }
      ],
      "source": [
        "tf.__version__"
      ]
    },
    {
      "cell_type": "markdown",
      "metadata": {
        "id": "1E0Q3aoKUCRX"
      },
      "source": [
        "## Part 1 - Data Preprocessing"
      ]
    },
    {
      "cell_type": "markdown",
      "metadata": {
        "id": "cKWAkFVGUU0Z"
      },
      "source": [
        "### Importing the dataset"
      ]
    },
    {
      "cell_type": "code",
      "execution_count": 9,
      "metadata": {
        "id": "YnvDLpepMIQ6"
      },
      "outputs": [],
      "source": [
        "dataset = pd.read_csv('../../Dataset/Final-dataset-binary/NotionAI-MyMind.csv')\n",
        "X = dataset.iloc[:, 1:-1].values # The columns 0 has not impact the result (version).\n",
        "y = dataset.iloc[:, -1].values"
      ]
    },
    {
      "cell_type": "code",
      "execution_count": 10,
      "metadata": {
        "colab": {
          "base_uri": "https://localhost:8080/"
        },
        "id": "gevnZWFJNdaQ",
        "outputId": "bb2465a7-e35a-4671-a205-727b48e5a07c"
      },
      "outputs": [
        {
          "name": "stdout",
          "output_type": "stream",
          "text": [
            "[['Python-Server/app/background_worker/background_worker.py' 'Core' 135 8\n",
            "  11.5]\n",
            " ['Python-Server/app/background_worker/task/remove_task.py' 'Core' 40 5\n",
            "  3.0]\n",
            " ['Python-Server/app/background_worker/task/task.py' 'Core' 34 5 1.5]\n",
            " ...\n",
            " ['Python-Server/app/server_utils/handle_options_data.py' 'Core' 78 4 3.0]\n",
            " ['Python-Server/app/server_utils/utils.py' 'Core' 244 16 15.0]\n",
            " ['Python-Server/app/translation/translation_manager.py' 'Core' 40 4 2.5]]\n"
          ]
        }
      ],
      "source": [
        "print(X)"
      ]
    },
    {
      "cell_type": "code",
      "execution_count": 11,
      "metadata": {
        "colab": {
          "base_uri": "https://localhost:8080/"
        },
        "id": "WAPwagj9NerZ",
        "outputId": "ac1941af-144c-4ed9-beb4-ef23ef4f92fe"
      },
      "outputs": [
        {
          "name": "stdout",
          "output_type": "stream",
          "text": [
            "[0 0 0 0 0 0 0 0 0 0 0 0 0 0 0 0 0 0 0 0 0 0 0 0 0 0 0 0 0 0 0 0 0 0 0 0 0\n",
            " 0 0 0 0 0 0 0 0 0 0 0 0 0 0 0 0 0 0 0 0 0 0 0 0 0 0 0 0 0 0 0 0 0 0 0 0 0\n",
            " 0 0 0 0 0 0 0 0 0 0 0 0 0 0 0 0 0 0 0 0 0 0 0 0 0 0 0 0 0 0 0 0 0 0 0 0 0\n",
            " 0 0 0 0 0 0 0 0 0 0 0 0 0 0 0 0 0 0 0 0 0 0 0 0 0 0 0 0 0 0 0 0 0 0 0 0 0\n",
            " 0 0 0 0 0 0 0 0 0 0 0 0 0 0 0 0 0 0 0 0 0 0 0 0 0 0 0 0 0 0 0 0 0 0 0 0 0\n",
            " 0 0 0 0 0 0 0 0 0 0 0 0 0 0 0 0 0 0 0 0 0 0 0 0 0 0 0 0 0 0 0 0 0 0 0 0 0\n",
            " 0 0 0 0 0 0 0 0 0 0 0 0 0 0 0 0 0 0 0 0 0 0 0 0 0 0 0 0 0 0 0 0 0 0 0 0 0\n",
            " 0 0 0 0 0 0 0 0 0 0 0 0 0 0 0 0 0 0 0 0 0 0 0 0 0 0 0 0 0 0 0 0 0 0 0 0 0\n",
            " 0 0 0 0 0 0 0 0 0 0 0 0 0 0 0 0 0 0 0 0 0 0 0 0 0 0 0 0 0 0 0 0 0 0 0 0 0\n",
            " 0 0 0 0 0 0 0 0 0 0 0 0 0 0 0 0 0 0 0 0 0 0 0 0 0 0 0 0 0 0 0 0 0 0 0 0 0\n",
            " 0 0 0 0 0 0 0 0 0 0 0 0 0 0 0 0 0 0 0 0 0 0 0 0 0 0 0 0 0 0 0 0 0 0 0 0 0\n",
            " 0 0 0 0 0 0 0 0 0 0 0 0 0 0 0 0 0 0 0 0 0 0 0 0 0 0 0 0 0 0 0 0 0 0 0 0 0\n",
            " 0 0 0 0 0 0 0 0 0 0 0 0 0 0 0 0 0 0 0 0 0 0 0 0 0 0 0 0 0 0 0 0 0 0 0 0 0\n",
            " 0 0 0 0 0 0 0 0 0 0 0 0 0 0 1 1 0 1 1 1 1 1 1 1 0 1 1 1 1 1 0 1 0 0 0 0 0\n",
            " 0 0 1 0 0 0 0 0 0 0 0 0 1 1 0 1 1 1 0 0 1 1 0 0 0 1 0 1 0 1 0 1 1 1 1 0 1\n",
            " 1 1 0 1 0 1 0 0 1 0 1 1 0 1 1 1 0 0 1 1 0 0 0 1 0 1 0 1 0 1 1 1 1 0 1 1 1\n",
            " 0 1 0]\n"
          ]
        }
      ],
      "source": [
        "print(y)"
      ]
    },
    {
      "cell_type": "markdown",
      "metadata": {
        "id": "N6bQ0UgSU-NJ"
      },
      "source": [
        "### Encoding categorical data"
      ]
    },
    {
      "cell_type": "code",
      "execution_count": 12,
      "metadata": {
        "id": "GAGy9ApMlix7"
      },
      "outputs": [
        {
          "ename": "ValueError",
          "evalue": "Shape of passed values is (595, 5), indices imply (595, 2)",
          "output_type": "error",
          "traceback": [
            "\u001b[1;31m---------------------------------------------------------------------------\u001b[0m",
            "\u001b[1;31mValueError\u001b[0m                                Traceback (most recent call last)",
            "Cell \u001b[1;32mIn[12], line 1\u001b[0m\n\u001b[1;32m----> 1\u001b[0m df \u001b[38;5;241m=\u001b[39m \u001b[43mpd\u001b[49m\u001b[38;5;241;43m.\u001b[39;49m\u001b[43mDataFrame\u001b[49m\u001b[43m(\u001b[49m\u001b[43mX\u001b[49m\u001b[43m,\u001b[49m\u001b[43m \u001b[49m\u001b[43mcolumns\u001b[49m\u001b[38;5;241;43m=\u001b[39;49m\u001b[43m[\u001b[49m\u001b[38;5;124;43m'\u001b[39;49m\u001b[38;5;124;43mfile\u001b[39;49m\u001b[38;5;124;43m'\u001b[39;49m\u001b[43m,\u001b[49m\u001b[43m \u001b[49m\u001b[38;5;124;43m'\u001b[39;49m\u001b[38;5;124;43msmell\u001b[39;49m\u001b[38;5;124;43m'\u001b[39;49m\u001b[43m]\u001b[49m\u001b[43m)\u001b[49m\n",
            "File \u001b[1;32mc:\\Users\\P2937574\\.pyenv\\pyenv-win\\versions\\3.10.8\\lib\\site-packages\\pandas\\core\\frame.py:827\u001b[0m, in \u001b[0;36mDataFrame.__init__\u001b[1;34m(self, data, index, columns, dtype, copy)\u001b[0m\n\u001b[0;32m    816\u001b[0m         mgr \u001b[38;5;241m=\u001b[39m dict_to_mgr(\n\u001b[0;32m    817\u001b[0m             \u001b[38;5;66;03m# error: Item \"ndarray\" of \"Union[ndarray, Series, Index]\" has no\u001b[39;00m\n\u001b[0;32m    818\u001b[0m             \u001b[38;5;66;03m# attribute \"name\"\u001b[39;00m\n\u001b[1;32m   (...)\u001b[0m\n\u001b[0;32m    824\u001b[0m             copy\u001b[38;5;241m=\u001b[39m_copy,\n\u001b[0;32m    825\u001b[0m         )\n\u001b[0;32m    826\u001b[0m     \u001b[38;5;28;01melse\u001b[39;00m:\n\u001b[1;32m--> 827\u001b[0m         mgr \u001b[38;5;241m=\u001b[39m \u001b[43mndarray_to_mgr\u001b[49m\u001b[43m(\u001b[49m\n\u001b[0;32m    828\u001b[0m \u001b[43m            \u001b[49m\u001b[43mdata\u001b[49m\u001b[43m,\u001b[49m\n\u001b[0;32m    829\u001b[0m \u001b[43m            \u001b[49m\u001b[43mindex\u001b[49m\u001b[43m,\u001b[49m\n\u001b[0;32m    830\u001b[0m \u001b[43m            \u001b[49m\u001b[43mcolumns\u001b[49m\u001b[43m,\u001b[49m\n\u001b[0;32m    831\u001b[0m \u001b[43m            \u001b[49m\u001b[43mdtype\u001b[49m\u001b[38;5;241;43m=\u001b[39;49m\u001b[43mdtype\u001b[49m\u001b[43m,\u001b[49m\n\u001b[0;32m    832\u001b[0m \u001b[43m            \u001b[49m\u001b[43mcopy\u001b[49m\u001b[38;5;241;43m=\u001b[39;49m\u001b[43mcopy\u001b[49m\u001b[43m,\u001b[49m\n\u001b[0;32m    833\u001b[0m \u001b[43m            \u001b[49m\u001b[43mtyp\u001b[49m\u001b[38;5;241;43m=\u001b[39;49m\u001b[43mmanager\u001b[49m\u001b[43m,\u001b[49m\n\u001b[0;32m    834\u001b[0m \u001b[43m        \u001b[49m\u001b[43m)\u001b[49m\n\u001b[0;32m    836\u001b[0m \u001b[38;5;66;03m# For data is list-like, or Iterable (will consume into list)\u001b[39;00m\n\u001b[0;32m    837\u001b[0m \u001b[38;5;28;01melif\u001b[39;00m is_list_like(data):\n",
            "File \u001b[1;32mc:\\Users\\P2937574\\.pyenv\\pyenv-win\\versions\\3.10.8\\lib\\site-packages\\pandas\\core\\internals\\construction.py:336\u001b[0m, in \u001b[0;36mndarray_to_mgr\u001b[1;34m(values, index, columns, dtype, copy, typ)\u001b[0m\n\u001b[0;32m    331\u001b[0m \u001b[38;5;66;03m# _prep_ndarraylike ensures that values.ndim == 2 at this point\u001b[39;00m\n\u001b[0;32m    332\u001b[0m index, columns \u001b[38;5;241m=\u001b[39m _get_axes(\n\u001b[0;32m    333\u001b[0m     values\u001b[38;5;241m.\u001b[39mshape[\u001b[38;5;241m0\u001b[39m], values\u001b[38;5;241m.\u001b[39mshape[\u001b[38;5;241m1\u001b[39m], index\u001b[38;5;241m=\u001b[39mindex, columns\u001b[38;5;241m=\u001b[39mcolumns\n\u001b[0;32m    334\u001b[0m )\n\u001b[1;32m--> 336\u001b[0m \u001b[43m_check_values_indices_shape_match\u001b[49m\u001b[43m(\u001b[49m\u001b[43mvalues\u001b[49m\u001b[43m,\u001b[49m\u001b[43m \u001b[49m\u001b[43mindex\u001b[49m\u001b[43m,\u001b[49m\u001b[43m \u001b[49m\u001b[43mcolumns\u001b[49m\u001b[43m)\u001b[49m\n\u001b[0;32m    338\u001b[0m \u001b[38;5;28;01mif\u001b[39;00m typ \u001b[38;5;241m==\u001b[39m \u001b[38;5;124m\"\u001b[39m\u001b[38;5;124marray\u001b[39m\u001b[38;5;124m\"\u001b[39m:\n\u001b[0;32m    339\u001b[0m     \u001b[38;5;28;01mif\u001b[39;00m \u001b[38;5;28missubclass\u001b[39m(values\u001b[38;5;241m.\u001b[39mdtype\u001b[38;5;241m.\u001b[39mtype, \u001b[38;5;28mstr\u001b[39m):\n",
            "File \u001b[1;32mc:\\Users\\P2937574\\.pyenv\\pyenv-win\\versions\\3.10.8\\lib\\site-packages\\pandas\\core\\internals\\construction.py:420\u001b[0m, in \u001b[0;36m_check_values_indices_shape_match\u001b[1;34m(values, index, columns)\u001b[0m\n\u001b[0;32m    418\u001b[0m passed \u001b[38;5;241m=\u001b[39m values\u001b[38;5;241m.\u001b[39mshape\n\u001b[0;32m    419\u001b[0m implied \u001b[38;5;241m=\u001b[39m (\u001b[38;5;28mlen\u001b[39m(index), \u001b[38;5;28mlen\u001b[39m(columns))\n\u001b[1;32m--> 420\u001b[0m \u001b[38;5;28;01mraise\u001b[39;00m \u001b[38;5;167;01mValueError\u001b[39;00m(\u001b[38;5;124mf\u001b[39m\u001b[38;5;124m\"\u001b[39m\u001b[38;5;124mShape of passed values is \u001b[39m\u001b[38;5;132;01m{\u001b[39;00mpassed\u001b[38;5;132;01m}\u001b[39;00m\u001b[38;5;124m, indices imply \u001b[39m\u001b[38;5;132;01m{\u001b[39;00mimplied\u001b[38;5;132;01m}\u001b[39;00m\u001b[38;5;124m\"\u001b[39m)\n",
            "\u001b[1;31mValueError\u001b[0m: Shape of passed values is (595, 5), indices imply (595, 2)"
          ]
        }
      ],
      "source": [
        "df = pd.DataFrame(X, columns=['file', 'smell'])"
      ]
    },
    {
      "cell_type": "markdown",
      "metadata": {
        "id": "le5MJreAbW52"
      },
      "source": [
        "One Hot Encoding the following columns : \"*filepath*\", \"*smell_type*\", \"*smell_id*\", \"*Severity*\""
      ]
    },
    {
      "cell_type": "code",
      "execution_count": null,
      "metadata": {
        "id": "I7YMN_XFTuwp"
      },
      "outputs": [],
      "source": [
        "from sklearn.compose import ColumnTransformer\n",
        "from sklearn.preprocessing import OneHotEncoder\n",
        "\n",
        "cat_cols = ['file', 'smell']\n",
        "ct = ColumnTransformer(\n",
        "    transformers=[('encoder', OneHotEncoder(handle_unknown='ignore'), cat_cols)],\n",
        "    remainder='passthrough'  # pour garder 'version_count'\n",
        ")\n",
        "\n",
        "X_encoded = ct.fit_transform(df)"
      ]
    },
    {
      "cell_type": "code",
      "execution_count": null,
      "metadata": {
        "colab": {
          "base_uri": "https://localhost:8080/"
        },
        "id": "LxgZFPdUUJeN",
        "outputId": "fc6506be-86c3-4d4d-e2a5-61cf6027b641"
      },
      "outputs": [
        {
          "name": "stdout",
          "output_type": "stream",
          "text": [
            "<Compressed Sparse Row sparse matrix of dtype 'float64'\n",
            "\twith 281456 stored elements and shape (140728, 366)>\n",
            "  Coords\tValues\n",
            "  (0, 0)\t1.0\n",
            "  (0, 359)\t1.0\n",
            "  (1, 0)\t1.0\n",
            "  (1, 360)\t1.0\n",
            "  (2, 0)\t1.0\n",
            "  (2, 361)\t1.0\n",
            "  (3, 0)\t1.0\n",
            "  (3, 362)\t1.0\n",
            "  (4, 0)\t1.0\n",
            "  (4, 363)\t1.0\n",
            "  (5, 0)\t1.0\n",
            "  (5, 364)\t1.0\n",
            "  (6, 0)\t1.0\n",
            "  (6, 365)\t1.0\n",
            "  (7, 1)\t1.0\n",
            "  (7, 359)\t1.0\n",
            "  (8, 1)\t1.0\n",
            "  (8, 360)\t1.0\n",
            "  (9, 1)\t1.0\n",
            "  (9, 361)\t1.0\n",
            "  (10, 1)\t1.0\n",
            "  (10, 362)\t1.0\n",
            "  (11, 1)\t1.0\n",
            "  (11, 363)\t1.0\n",
            "  (12, 1)\t1.0\n",
            "  :\t:\n",
            "  (140715, 360)\t1.0\n",
            "  (140716, 357)\t1.0\n",
            "  (140716, 361)\t1.0\n",
            "  (140717, 357)\t1.0\n",
            "  (140717, 362)\t1.0\n",
            "  (140718, 357)\t1.0\n",
            "  (140718, 363)\t1.0\n",
            "  (140719, 357)\t1.0\n",
            "  (140719, 364)\t1.0\n",
            "  (140720, 357)\t1.0\n",
            "  (140720, 365)\t1.0\n",
            "  (140721, 358)\t1.0\n",
            "  (140721, 359)\t1.0\n",
            "  (140722, 358)\t1.0\n",
            "  (140722, 360)\t1.0\n",
            "  (140723, 358)\t1.0\n",
            "  (140723, 361)\t1.0\n",
            "  (140724, 358)\t1.0\n",
            "  (140724, 362)\t1.0\n",
            "  (140725, 358)\t1.0\n",
            "  (140725, 363)\t1.0\n",
            "  (140726, 358)\t1.0\n",
            "  (140726, 364)\t1.0\n",
            "  (140727, 358)\t1.0\n",
            "  (140727, 365)\t1.0\n"
          ]
        }
      ],
      "source": [
        "print(X_encoded)"
      ]
    },
    {
      "cell_type": "markdown",
      "metadata": {
        "id": "vHol938cW8zd"
      },
      "source": [
        "### Splitting the dataset into the Training set and Test set"
      ]
    },
    {
      "cell_type": "code",
      "execution_count": null,
      "metadata": {
        "id": "SpyDdueNk5ZP"
      },
      "outputs": [],
      "source": [
        "from sklearn.model_selection import train_test_split\n",
        "\n",
        "# Get number of rows\n",
        "n_rows = X_encoded.shape[0]\n",
        "\n",
        "# Define the split index: 80% for training, 20% for testing\n",
        "split_index = int(n_rows * 0.8)\n",
        "\n",
        "# Split chronologically\n",
        "X_train = X_encoded[:split_index]\n",
        "X_test = X_encoded[split_index:]\n",
        "y_train = y[:split_index]\n",
        "y_test = y[split_index:]\n"
      ]
    },
    {
      "cell_type": "markdown",
      "metadata": {
        "id": "RE_FcHyfV3TQ"
      },
      "source": [
        "### Feature Scaling"
      ]
    },
    {
      "cell_type": "code",
      "execution_count": null,
      "metadata": {
        "id": "nHD4082RWvXU"
      },
      "outputs": [],
      "source": [
        "from sklearn.preprocessing import StandardScaler\n",
        "sc = StandardScaler(with_mean=False)\n",
        "# In neural network it is really important to apply Feature Scaling on all features\n",
        "X_train = sc.fit_transform(X_train)\n",
        "X_test = sc.transform(X_test)"
      ]
    },
    {
      "cell_type": "code",
      "execution_count": null,
      "metadata": {
        "colab": {
          "base_uri": "https://localhost:8080/"
        },
        "id": "5dsf9B4fXoaE",
        "outputId": "a7c4c4ff-6c80-4c71-a06a-cab57700aec3"
      },
      "outputs": [
        {
          "name": "stdout",
          "output_type": "stream",
          "text": [
            "<Compressed Sparse Row sparse matrix of dtype 'float64'\n",
            "\twith 225164 stored elements and shape (112582, 366)>\n",
            "  Coords\tValues\n",
            "  (0, 0)\t18.9316132544039\n",
            "  (0, 359)\t2.857674577002177\n",
            "  (1, 0)\t18.9316132544039\n",
            "  (1, 360)\t2.8577486098306815\n",
            "  (2, 0)\t18.9316132544039\n",
            "  (2, 361)\t2.8577486098306815\n",
            "  (3, 0)\t18.9316132544039\n",
            "  (3, 362)\t2.8577486098306815\n",
            "  (4, 0)\t18.9316132544039\n",
            "  (4, 363)\t2.8577486098306815\n",
            "  (5, 0)\t18.9316132544039\n",
            "  (5, 364)\t2.8577486098306815\n",
            "  (6, 0)\t18.9316132544039\n",
            "  (6, 365)\t2.8577486098306815\n",
            "  (7, 1)\t18.9316132544039\n",
            "  (7, 359)\t2.857674577002177\n",
            "  (8, 1)\t18.9316132544039\n",
            "  (8, 360)\t2.8577486098306815\n",
            "  (9, 1)\t18.9316132544039\n",
            "  (9, 361)\t2.8577486098306815\n",
            "  (10, 1)\t18.9316132544039\n",
            "  (10, 362)\t2.8577486098306815\n",
            "  (11, 1)\t18.9316132544039\n",
            "  (11, 363)\t2.8577486098306815\n",
            "  (12, 1)\t18.9316132544039\n",
            "  :\t:\n",
            "  (112569, 361)\t2.8577486098306815\n",
            "  (112570, 285)\t18.9316132544039\n",
            "  (112570, 362)\t2.8577486098306815\n",
            "  (112571, 285)\t18.9316132544039\n",
            "  (112571, 363)\t2.8577486098306815\n",
            "  (112572, 285)\t18.9316132544039\n",
            "  (112572, 364)\t2.8577486098306815\n",
            "  (112573, 285)\t18.9316132544039\n",
            "  (112573, 365)\t2.8577486098306815\n",
            "  (112574, 286)\t18.9316132544039\n",
            "  (112574, 359)\t2.857674577002177\n",
            "  (112575, 286)\t18.9316132544039\n",
            "  (112575, 360)\t2.8577486098306815\n",
            "  (112576, 286)\t18.9316132544039\n",
            "  (112576, 361)\t2.8577486098306815\n",
            "  (112577, 286)\t18.9316132544039\n",
            "  (112577, 362)\t2.8577486098306815\n",
            "  (112578, 286)\t18.9316132544039\n",
            "  (112578, 363)\t2.8577486098306815\n",
            "  (112579, 286)\t18.9316132544039\n",
            "  (112579, 364)\t2.8577486098306815\n",
            "  (112580, 286)\t18.9316132544039\n",
            "  (112580, 365)\t2.8577486098306815\n",
            "  (112581, 287)\t19.114020882358417\n",
            "  (112581, 359)\t2.857674577002177\n"
          ]
        }
      ],
      "source": [
        "print(X_train)"
      ]
    },
    {
      "cell_type": "markdown",
      "metadata": {
        "id": "-zfEzkRVXIwF"
      },
      "source": [
        "## Part 2 - Building the ANN"
      ]
    },
    {
      "cell_type": "markdown",
      "metadata": {
        "id": "KvdeScabXtlB"
      },
      "source": [
        "### Initializing the ANN"
      ]
    },
    {
      "cell_type": "code",
      "execution_count": null,
      "metadata": {
        "id": "M4oC4hCvYzAF"
      },
      "outputs": [],
      "source": [
        "ann = tf.keras.models.Sequential()"
      ]
    },
    {
      "cell_type": "markdown",
      "metadata": {
        "id": "rP6urV6SX7kS"
      },
      "source": [
        "### Adding the input layer and the first hidden layer"
      ]
    },
    {
      "cell_type": "code",
      "execution_count": null,
      "metadata": {
        "id": "oeQgX1XOZBsm"
      },
      "outputs": [],
      "source": [
        "\"\"\"Units => number of neurons in the layer. There is not a rule about this number,\n",
        "we have to do test to determine which one may be good for our project\"\"\"\n",
        "ann.add(tf.keras.layers.Dense(units=6, activation='relu'))"
      ]
    },
    {
      "cell_type": "markdown",
      "metadata": {
        "id": "BELWAc_8YJze"
      },
      "source": [
        "### Adding the second hidden layer"
      ]
    },
    {
      "cell_type": "code",
      "execution_count": null,
      "metadata": {
        "id": "wlTx_zP1aQDO"
      },
      "outputs": [],
      "source": [
        "ann.add(tf.keras.layers.Dense(units=6, activation='relu'))"
      ]
    },
    {
      "cell_type": "markdown",
      "metadata": {
        "id": "OyNEe6RXYcU4"
      },
      "source": [
        "### Adding the output layer"
      ]
    },
    {
      "cell_type": "code",
      "execution_count": null,
      "metadata": {
        "id": "7SSOlvP1alG5"
      },
      "outputs": [],
      "source": [
        "# \"Units = 1\" because 1 neuron can detect the entire target (0 or 1)\n",
        "ann.add(tf.keras.layers.Dense(units=1))"
      ]
    },
    {
      "cell_type": "markdown",
      "metadata": {
        "id": "JT4u2S1_Y4WG"
      },
      "source": [
        "## Part 3 - Training the ANN"
      ]
    },
    {
      "cell_type": "markdown",
      "metadata": {
        "id": "8GWlJChhY_ZI"
      },
      "source": [
        "### Compiling the ANN"
      ]
    },
    {
      "cell_type": "code",
      "execution_count": null,
      "metadata": {
        "id": "lV7MoE7aEtOz"
      },
      "outputs": [],
      "source": [
        "#ann.compile(optimizer = 'adam', loss = 'binary_crossentropy', metrics=['accuracy'])\n",
        "ann.compile(optimizer='adam', loss='mean_squared_error', metrics=['mae'])  # ou 'mse'"
      ]
    },
    {
      "cell_type": "markdown",
      "metadata": {
        "id": "0QR_G5u7ZLSM"
      },
      "source": [
        "### Training the ANN on the Training set"
      ]
    },
    {
      "cell_type": "code",
      "execution_count": null,
      "metadata": {
        "colab": {
          "base_uri": "https://localhost:8080/"
        },
        "id": "OtvFZjQWGQJK",
        "outputId": "b06b0a51-6983-4b7b-e302-05beeac3e5cf"
      },
      "outputs": [
        {
          "name": "stdout",
          "output_type": "stream",
          "text": [
            "Epoch 1/100\n",
            "\u001b[1m3519/3519\u001b[0m \u001b[32m━━━━━━━━━━━━━━━━━━━━\u001b[0m\u001b[37m\u001b[0m \u001b[1m10s\u001b[0m 2ms/step - loss: 0.1719 - mae: 0.1898\n",
            "Epoch 2/100\n",
            "\u001b[1m3519/3519\u001b[0m \u001b[32m━━━━━━━━━━━━━━━━━━━━\u001b[0m\u001b[37m\u001b[0m \u001b[1m9s\u001b[0m 2ms/step - loss: 0.0335 - mae: 0.0751\n",
            "Epoch 3/100\n",
            "\u001b[1m3519/3519\u001b[0m \u001b[32m━━━━━━━━━━━━━━━━━━━━\u001b[0m\u001b[37m\u001b[0m \u001b[1m7s\u001b[0m 2ms/step - loss: 0.0301 - mae: 0.0679\n",
            "Epoch 4/100\n",
            "\u001b[1m3519/3519\u001b[0m \u001b[32m━━━━━━━━━━━━━━━━━━━━\u001b[0m\u001b[37m\u001b[0m \u001b[1m8s\u001b[0m 2ms/step - loss: 0.0290 - mae: 0.0655\n",
            "Epoch 5/100\n",
            "\u001b[1m3519/3519\u001b[0m \u001b[32m━━━━━━━━━━━━━━━━━━━━\u001b[0m\u001b[37m\u001b[0m \u001b[1m8s\u001b[0m 2ms/step - loss: 0.0285 - mae: 0.0625\n",
            "Epoch 6/100\n",
            "\u001b[1m3519/3519\u001b[0m \u001b[32m━━━━━━━━━━━━━━━━━━━━\u001b[0m\u001b[37m\u001b[0m \u001b[1m9s\u001b[0m 2ms/step - loss: 0.0285 - mae: 0.0597\n",
            "Epoch 7/100\n",
            "\u001b[1m3519/3519\u001b[0m \u001b[32m━━━━━━━━━━━━━━━━━━━━\u001b[0m\u001b[37m\u001b[0m \u001b[1m9s\u001b[0m 2ms/step - loss: 0.0271 - mae: 0.0580\n",
            "Epoch 8/100\n",
            "\u001b[1m3519/3519\u001b[0m \u001b[32m━━━━━━━━━━━━━━━━━━━━\u001b[0m\u001b[37m\u001b[0m \u001b[1m10s\u001b[0m 2ms/step - loss: 0.0271 - mae: 0.0569\n",
            "Epoch 9/100\n",
            "\u001b[1m3519/3519\u001b[0m \u001b[32m━━━━━━━━━━━━━━━━━━━━\u001b[0m\u001b[37m\u001b[0m \u001b[1m9s\u001b[0m 2ms/step - loss: 0.0265 - mae: 0.0566\n",
            "Epoch 10/100\n",
            "\u001b[1m3519/3519\u001b[0m \u001b[32m━━━━━━━━━━━━━━━━━━━━\u001b[0m\u001b[37m\u001b[0m \u001b[1m9s\u001b[0m 2ms/step - loss: 0.0264 - mae: 0.0561\n",
            "Epoch 11/100\n",
            "\u001b[1m3519/3519\u001b[0m \u001b[32m━━━━━━━━━━━━━━━━━━━━\u001b[0m\u001b[37m\u001b[0m \u001b[1m10s\u001b[0m 2ms/step - loss: 0.0257 - mae: 0.0546\n",
            "Epoch 12/100\n",
            "\u001b[1m3519/3519\u001b[0m \u001b[32m━━━━━━━━━━━━━━━━━━━━\u001b[0m\u001b[37m\u001b[0m \u001b[1m7s\u001b[0m 2ms/step - loss: 0.0265 - mae: 0.0555\n",
            "Epoch 13/100\n",
            "\u001b[1m3519/3519\u001b[0m \u001b[32m━━━━━━━━━━━━━━━━━━━━\u001b[0m\u001b[37m\u001b[0m \u001b[1m9s\u001b[0m 2ms/step - loss: 0.0256 - mae: 0.0543\n",
            "Epoch 14/100\n",
            "\u001b[1m3519/3519\u001b[0m \u001b[32m━━━━━━━━━━━━━━━━━━━━\u001b[0m\u001b[37m\u001b[0m \u001b[1m9s\u001b[0m 2ms/step - loss: 0.0256 - mae: 0.0539\n",
            "Epoch 15/100\n",
            "\u001b[1m3519/3519\u001b[0m \u001b[32m━━━━━━━━━━━━━━━━━━━━\u001b[0m\u001b[37m\u001b[0m \u001b[1m8s\u001b[0m 2ms/step - loss: 0.0260 - mae: 0.0548\n",
            "Epoch 16/100\n",
            "\u001b[1m3519/3519\u001b[0m \u001b[32m━━━━━━━━━━━━━━━━━━━━\u001b[0m\u001b[37m\u001b[0m \u001b[1m11s\u001b[0m 2ms/step - loss: 0.0257 - mae: 0.0539\n",
            "Epoch 17/100\n",
            "\u001b[1m3519/3519\u001b[0m \u001b[32m━━━━━━━━━━━━━━━━━━━━\u001b[0m\u001b[37m\u001b[0m \u001b[1m7s\u001b[0m 2ms/step - loss: 0.0260 - mae: 0.0544\n",
            "Epoch 18/100\n",
            "\u001b[1m3519/3519\u001b[0m \u001b[32m━━━━━━━━━━━━━━━━━━━━\u001b[0m\u001b[37m\u001b[0m \u001b[1m9s\u001b[0m 2ms/step - loss: 0.0261 - mae: 0.0543\n",
            "Epoch 19/100\n",
            "\u001b[1m3519/3519\u001b[0m \u001b[32m━━━━━━━━━━━━━━━━━━━━\u001b[0m\u001b[37m\u001b[0m \u001b[1m10s\u001b[0m 2ms/step - loss: 0.0266 - mae: 0.0547\n",
            "Epoch 20/100\n",
            "\u001b[1m3519/3519\u001b[0m \u001b[32m━━━━━━━━━━━━━━━━━━━━\u001b[0m\u001b[37m\u001b[0m \u001b[1m7s\u001b[0m 2ms/step - loss: 0.0258 - mae: 0.0536\n",
            "Epoch 21/100\n",
            "\u001b[1m3519/3519\u001b[0m \u001b[32m━━━━━━━━━━━━━━━━━━━━\u001b[0m\u001b[37m\u001b[0m \u001b[1m10s\u001b[0m 2ms/step - loss: 0.0255 - mae: 0.0535\n",
            "Epoch 22/100\n",
            "\u001b[1m3519/3519\u001b[0m \u001b[32m━━━━━━━━━━━━━━━━━━━━\u001b[0m\u001b[37m\u001b[0m \u001b[1m11s\u001b[0m 2ms/step - loss: 0.0253 - mae: 0.0535\n",
            "Epoch 23/100\n",
            "\u001b[1m3519/3519\u001b[0m \u001b[32m━━━━━━━━━━━━━━━━━━━━\u001b[0m\u001b[37m\u001b[0m \u001b[1m10s\u001b[0m 2ms/step - loss: 0.0247 - mae: 0.0514\n",
            "Epoch 24/100\n",
            "\u001b[1m3519/3519\u001b[0m \u001b[32m━━━━━━━━━━━━━━━━━━━━\u001b[0m\u001b[37m\u001b[0m \u001b[1m7s\u001b[0m 2ms/step - loss: 0.0255 - mae: 0.0529\n",
            "Epoch 25/100\n",
            "\u001b[1m3519/3519\u001b[0m \u001b[32m━━━━━━━━━━━━━━━━━━━━\u001b[0m\u001b[37m\u001b[0m \u001b[1m9s\u001b[0m 2ms/step - loss: 0.0253 - mae: 0.0527\n",
            "Epoch 26/100\n",
            "\u001b[1m3519/3519\u001b[0m \u001b[32m━━━━━━━━━━━━━━━━━━━━\u001b[0m\u001b[37m\u001b[0m \u001b[1m10s\u001b[0m 2ms/step - loss: 0.0258 - mae: 0.0536\n",
            "Epoch 27/100\n",
            "\u001b[1m3519/3519\u001b[0m \u001b[32m━━━━━━━━━━━━━━━━━━━━\u001b[0m\u001b[37m\u001b[0m \u001b[1m9s\u001b[0m 2ms/step - loss: 0.0248 - mae: 0.0519\n",
            "Epoch 28/100\n",
            "\u001b[1m3519/3519\u001b[0m \u001b[32m━━━━━━━━━━━━━━━━━━━━\u001b[0m\u001b[37m\u001b[0m \u001b[1m10s\u001b[0m 2ms/step - loss: 0.0252 - mae: 0.0519\n",
            "Epoch 29/100\n",
            "\u001b[1m3519/3519\u001b[0m \u001b[32m━━━━━━━━━━━━━━━━━━━━\u001b[0m\u001b[37m\u001b[0m \u001b[1m9s\u001b[0m 2ms/step - loss: 0.0249 - mae: 0.0519\n",
            "Epoch 30/100\n",
            "\u001b[1m3519/3519\u001b[0m \u001b[32m━━━━━━━━━━━━━━━━━━━━\u001b[0m\u001b[37m\u001b[0m \u001b[1m8s\u001b[0m 2ms/step - loss: 0.0251 - mae: 0.0525\n",
            "Epoch 31/100\n",
            "\u001b[1m3519/3519\u001b[0m \u001b[32m━━━━━━━━━━━━━━━━━━━━\u001b[0m\u001b[37m\u001b[0m \u001b[1m9s\u001b[0m 2ms/step - loss: 0.0249 - mae: 0.0520\n",
            "Epoch 32/100\n",
            "\u001b[1m3315/3519\u001b[0m \u001b[32m━━━━━━━━━━━━━━━━━━\u001b[0m\u001b[37m━━\u001b[0m \u001b[1m0s\u001b[0m 3ms/step - loss: 0.0256 - mae: 0.0521"
          ]
        }
      ],
      "source": [
        "ann.fit(X_train, y_train, batch_size = 32, epochs = 100)"
      ]
    },
    {
      "cell_type": "markdown",
      "metadata": {
        "id": "tJj5k2MxZga3"
      },
      "source": [
        "## Part 4 - Making the predictions and evaluating the model"
      ]
    },
    {
      "cell_type": "markdown",
      "metadata": {
        "id": "u7yx47jPZt11"
      },
      "source": [
        "### Predicting the Test set results"
      ]
    },
    {
      "cell_type": "code",
      "execution_count": null,
      "metadata": {
        "collapsed": true,
        "id": "rMHaUFGFOB8N"
      },
      "outputs": [],
      "source": [
        "y_pred = ann.predict(X_test)\n",
        "#y_pred = (y_pred > 0.5)\n",
        "#print(np.concatenate((y_pred.reshape(len(y_pred),1), y_test.reshape(len(y_test),1)),1))\n",
        "\n",
        "print(np.concatenate((y_pred.reshape(len(y_pred),1), y_test.reshape(len(y_test),1)), 1))"
      ]
    },
    {
      "cell_type": "markdown",
      "metadata": {
        "id": "o0oyfLWoaEGw"
      },
      "source": [
        "### Making the Confusion Matrix"
      ]
    },
    {
      "cell_type": "code",
      "execution_count": null,
      "metadata": {
        "collapsed": true,
        "id": "nUKuGBF2OiyX"
      },
      "outputs": [],
      "source": [
        "from sklearn.metrics import mean_squared_error, mean_absolute_error, r2_score\n",
        "\n",
        "# y_pred est un tableau de float, il ne faut pas faire de seuil ici\n",
        "print(\"MSE :\", mean_squared_error(y_test, y_pred))\n",
        "print(\"MAE :\", mean_absolute_error(y_test, y_pred))\n",
        "print(\"R²  :\", r2_score(y_test, y_pred))"
      ]
    },
    {
      "cell_type": "markdown",
      "metadata": {
        "id": "x-umrit4SD6Q"
      },
      "source": [
        "### Predict the presence of smells on the latest version"
      ]
    }
  ],
  "metadata": {
    "colab": {
      "provenance": []
    },
    "kernelspec": {
      "display_name": "3.10.8",
      "language": "python",
      "name": "python3"
    },
    "language_info": {
      "codemirror_mode": {
        "name": "ipython",
        "version": 3
      },
      "file_extension": ".py",
      "mimetype": "text/x-python",
      "name": "python",
      "nbconvert_exporter": "python",
      "pygments_lexer": "ipython3",
      "version": "3.10.8"
    }
  },
  "nbformat": 4,
  "nbformat_minor": 0
}
