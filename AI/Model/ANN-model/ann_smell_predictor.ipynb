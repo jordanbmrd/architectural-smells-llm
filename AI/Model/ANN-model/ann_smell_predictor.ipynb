{
  "nbformat": 4,
  "nbformat_minor": 0,
  "metadata": {
    "colab": {
      "provenance": []
    },
    "kernelspec": {
      "name": "python3",
      "display_name": "Python 3"
    }
  },
  "cells": [
    {
      "cell_type": "markdown",
      "metadata": {
        "id": "lP6JLo1tGNBg"
      },
      "source": [
        "# Artificial Neural Network"
      ]
    },
    {
      "cell_type": "markdown",
      "metadata": {
        "id": "gWZyYmS_UE_L"
      },
      "source": [
        "### Importing the libraries"
      ]
    },
    {
      "cell_type": "code",
      "source": [
        "import numpy as np\n",
        "import pandas as pd\n",
        "import tensorflow as tf"
      ],
      "metadata": {
        "id": "x4NQQYRHLZ8K"
      },
      "execution_count": 67,
      "outputs": []
    },
    {
      "cell_type": "code",
      "source": [
        "tf.__version__"
      ],
      "metadata": {
        "colab": {
          "base_uri": "https://localhost:8080/",
          "height": 35
        },
        "id": "-aT6trbuLsCI",
        "outputId": "ebab615a-777f-48dc-c060-93e544413296"
      },
      "execution_count": 68,
      "outputs": [
        {
          "output_type": "execute_result",
          "data": {
            "text/plain": [
              "'2.18.0'"
            ],
            "application/vnd.google.colaboratory.intrinsic+json": {
              "type": "string"
            }
          },
          "metadata": {},
          "execution_count": 68
        }
      ]
    },
    {
      "cell_type": "markdown",
      "metadata": {
        "id": "1E0Q3aoKUCRX"
      },
      "source": [
        "## Part 1 - Data Preprocessing"
      ]
    },
    {
      "cell_type": "markdown",
      "metadata": {
        "id": "cKWAkFVGUU0Z"
      },
      "source": [
        "### Importing the dataset"
      ]
    },
    {
      "cell_type": "code",
      "source": [
        "dataset = pd.read_csv('bunkerweb.csv')\n",
        "X = dataset.iloc[:, 1:-1].values # The columns 0 has not impact the result (version).\n",
        "y = dataset.iloc[:, -1].values"
      ],
      "metadata": {
        "id": "YnvDLpepMIQ6"
      },
      "execution_count": 69,
      "outputs": []
    },
    {
      "cell_type": "code",
      "source": [
        "print(X)"
      ],
      "metadata": {
        "id": "gevnZWFJNdaQ",
        "colab": {
          "base_uri": "https://localhost:8080/"
        },
        "outputId": "bb2465a7-e35a-4671-a205-727b48e5a07c"
      },
      "execution_count": 70,
      "outputs": [
        {
          "output_type": "stream",
          "name": "stdout",
          "text": [
            "[['docs/json2md.py' 'God Object']\n",
            " ['docs/json2md.py' 'Hub-like Dependency']\n",
            " ['docs/json2md.py' 'Orphan Module']\n",
            " ...\n",
            " ['tests/ui/wizard.py' 'Potential Redundant Abstractions']\n",
            " ['tests/ui/wizard.py' 'Scattered Functionality']\n",
            " ['tests/ui/wizard.py' 'Unstable Dependency']]\n"
          ]
        }
      ]
    },
    {
      "cell_type": "code",
      "source": [
        "print(y)"
      ],
      "metadata": {
        "id": "WAPwagj9NerZ",
        "colab": {
          "base_uri": "https://localhost:8080/"
        },
        "outputId": "ac1941af-144c-4ed9-beb4-ef23ef4f92fe"
      },
      "execution_count": 71,
      "outputs": [
        {
          "output_type": "stream",
          "name": "stdout",
          "text": [
            "[0 0 0 ... 0 0 1]\n"
          ]
        }
      ]
    },
    {
      "cell_type": "markdown",
      "metadata": {
        "id": "N6bQ0UgSU-NJ"
      },
      "source": [
        "### Encoding categorical data"
      ]
    },
    {
      "cell_type": "code",
      "source": [
        "df = pd.DataFrame(X, columns=['file', 'smell'])"
      ],
      "metadata": {
        "id": "GAGy9ApMlix7"
      },
      "execution_count": 72,
      "outputs": []
    },
    {
      "cell_type": "markdown",
      "metadata": {
        "id": "le5MJreAbW52"
      },
      "source": [
        "One Hot Encoding the following columns : \"*filepath*\", \"*smell_type*\", \"*smell_id*\", \"*Severity*\""
      ]
    },
    {
      "cell_type": "code",
      "source": [
        "from sklearn.compose import ColumnTransformer\n",
        "from sklearn.preprocessing import OneHotEncoder\n",
        "\n",
        "cat_cols = ['file', 'smell']\n",
        "ct = ColumnTransformer(\n",
        "    transformers=[('encoder', OneHotEncoder(handle_unknown='ignore'), cat_cols)],\n",
        "    remainder='passthrough'  # pour garder 'version_count'\n",
        ")\n",
        "\n",
        "X_encoded = ct.fit_transform(df)"
      ],
      "metadata": {
        "id": "I7YMN_XFTuwp"
      },
      "execution_count": 73,
      "outputs": []
    },
    {
      "cell_type": "code",
      "source": [
        "print(X_encoded)"
      ],
      "metadata": {
        "id": "LxgZFPdUUJeN",
        "colab": {
          "base_uri": "https://localhost:8080/"
        },
        "outputId": "fc6506be-86c3-4d4d-e2a5-61cf6027b641"
      },
      "execution_count": 74,
      "outputs": [
        {
          "output_type": "stream",
          "name": "stdout",
          "text": [
            "<Compressed Sparse Row sparse matrix of dtype 'float64'\n",
            "\twith 281456 stored elements and shape (140728, 366)>\n",
            "  Coords\tValues\n",
            "  (0, 0)\t1.0\n",
            "  (0, 359)\t1.0\n",
            "  (1, 0)\t1.0\n",
            "  (1, 360)\t1.0\n",
            "  (2, 0)\t1.0\n",
            "  (2, 361)\t1.0\n",
            "  (3, 0)\t1.0\n",
            "  (3, 362)\t1.0\n",
            "  (4, 0)\t1.0\n",
            "  (4, 363)\t1.0\n",
            "  (5, 0)\t1.0\n",
            "  (5, 364)\t1.0\n",
            "  (6, 0)\t1.0\n",
            "  (6, 365)\t1.0\n",
            "  (7, 1)\t1.0\n",
            "  (7, 359)\t1.0\n",
            "  (8, 1)\t1.0\n",
            "  (8, 360)\t1.0\n",
            "  (9, 1)\t1.0\n",
            "  (9, 361)\t1.0\n",
            "  (10, 1)\t1.0\n",
            "  (10, 362)\t1.0\n",
            "  (11, 1)\t1.0\n",
            "  (11, 363)\t1.0\n",
            "  (12, 1)\t1.0\n",
            "  :\t:\n",
            "  (140715, 360)\t1.0\n",
            "  (140716, 357)\t1.0\n",
            "  (140716, 361)\t1.0\n",
            "  (140717, 357)\t1.0\n",
            "  (140717, 362)\t1.0\n",
            "  (140718, 357)\t1.0\n",
            "  (140718, 363)\t1.0\n",
            "  (140719, 357)\t1.0\n",
            "  (140719, 364)\t1.0\n",
            "  (140720, 357)\t1.0\n",
            "  (140720, 365)\t1.0\n",
            "  (140721, 358)\t1.0\n",
            "  (140721, 359)\t1.0\n",
            "  (140722, 358)\t1.0\n",
            "  (140722, 360)\t1.0\n",
            "  (140723, 358)\t1.0\n",
            "  (140723, 361)\t1.0\n",
            "  (140724, 358)\t1.0\n",
            "  (140724, 362)\t1.0\n",
            "  (140725, 358)\t1.0\n",
            "  (140725, 363)\t1.0\n",
            "  (140726, 358)\t1.0\n",
            "  (140726, 364)\t1.0\n",
            "  (140727, 358)\t1.0\n",
            "  (140727, 365)\t1.0\n"
          ]
        }
      ]
    },
    {
      "cell_type": "markdown",
      "metadata": {
        "id": "vHol938cW8zd"
      },
      "source": [
        "### Splitting the dataset into the Training set and Test set"
      ]
    },
    {
      "cell_type": "code",
      "source": [
        "from sklearn.model_selection import train_test_split\n",
        "\n",
        "# Get number of rows\n",
        "n_rows = X_encoded.shape[0]\n",
        "\n",
        "# Define the split index: 80% for training, 20% for testing\n",
        "split_index = int(n_rows * 0.8)\n",
        "\n",
        "# Split chronologically\n",
        "X_train = X_encoded[:split_index]\n",
        "X_test = X_encoded[split_index:]\n",
        "y_train = y[:split_index]\n",
        "y_test = y[split_index:]\n"
      ],
      "metadata": {
        "id": "SpyDdueNk5ZP"
      },
      "execution_count": 75,
      "outputs": []
    },
    {
      "cell_type": "markdown",
      "metadata": {
        "id": "RE_FcHyfV3TQ"
      },
      "source": [
        "### Feature Scaling"
      ]
    },
    {
      "cell_type": "code",
      "source": [
        "from sklearn.preprocessing import StandardScaler\n",
        "sc = StandardScaler(with_mean=False)\n",
        "# In neural network it is really important to apply Feature Scaling on all features\n",
        "X_train = sc.fit_transform(X_train)\n",
        "X_test = sc.transform(X_test)"
      ],
      "metadata": {
        "id": "nHD4082RWvXU"
      },
      "execution_count": 76,
      "outputs": []
    },
    {
      "cell_type": "code",
      "source": [
        "print(X_train)"
      ],
      "metadata": {
        "id": "5dsf9B4fXoaE",
        "colab": {
          "base_uri": "https://localhost:8080/"
        },
        "outputId": "a7c4c4ff-6c80-4c71-a06a-cab57700aec3"
      },
      "execution_count": 77,
      "outputs": [
        {
          "output_type": "stream",
          "name": "stdout",
          "text": [
            "<Compressed Sparse Row sparse matrix of dtype 'float64'\n",
            "\twith 225164 stored elements and shape (112582, 366)>\n",
            "  Coords\tValues\n",
            "  (0, 0)\t18.9316132544039\n",
            "  (0, 359)\t2.857674577002177\n",
            "  (1, 0)\t18.9316132544039\n",
            "  (1, 360)\t2.8577486098306815\n",
            "  (2, 0)\t18.9316132544039\n",
            "  (2, 361)\t2.8577486098306815\n",
            "  (3, 0)\t18.9316132544039\n",
            "  (3, 362)\t2.8577486098306815\n",
            "  (4, 0)\t18.9316132544039\n",
            "  (4, 363)\t2.8577486098306815\n",
            "  (5, 0)\t18.9316132544039\n",
            "  (5, 364)\t2.8577486098306815\n",
            "  (6, 0)\t18.9316132544039\n",
            "  (6, 365)\t2.8577486098306815\n",
            "  (7, 1)\t18.9316132544039\n",
            "  (7, 359)\t2.857674577002177\n",
            "  (8, 1)\t18.9316132544039\n",
            "  (8, 360)\t2.8577486098306815\n",
            "  (9, 1)\t18.9316132544039\n",
            "  (9, 361)\t2.8577486098306815\n",
            "  (10, 1)\t18.9316132544039\n",
            "  (10, 362)\t2.8577486098306815\n",
            "  (11, 1)\t18.9316132544039\n",
            "  (11, 363)\t2.8577486098306815\n",
            "  (12, 1)\t18.9316132544039\n",
            "  :\t:\n",
            "  (112569, 361)\t2.8577486098306815\n",
            "  (112570, 285)\t18.9316132544039\n",
            "  (112570, 362)\t2.8577486098306815\n",
            "  (112571, 285)\t18.9316132544039\n",
            "  (112571, 363)\t2.8577486098306815\n",
            "  (112572, 285)\t18.9316132544039\n",
            "  (112572, 364)\t2.8577486098306815\n",
            "  (112573, 285)\t18.9316132544039\n",
            "  (112573, 365)\t2.8577486098306815\n",
            "  (112574, 286)\t18.9316132544039\n",
            "  (112574, 359)\t2.857674577002177\n",
            "  (112575, 286)\t18.9316132544039\n",
            "  (112575, 360)\t2.8577486098306815\n",
            "  (112576, 286)\t18.9316132544039\n",
            "  (112576, 361)\t2.8577486098306815\n",
            "  (112577, 286)\t18.9316132544039\n",
            "  (112577, 362)\t2.8577486098306815\n",
            "  (112578, 286)\t18.9316132544039\n",
            "  (112578, 363)\t2.8577486098306815\n",
            "  (112579, 286)\t18.9316132544039\n",
            "  (112579, 364)\t2.8577486098306815\n",
            "  (112580, 286)\t18.9316132544039\n",
            "  (112580, 365)\t2.8577486098306815\n",
            "  (112581, 287)\t19.114020882358417\n",
            "  (112581, 359)\t2.857674577002177\n"
          ]
        }
      ]
    },
    {
      "cell_type": "markdown",
      "metadata": {
        "id": "-zfEzkRVXIwF"
      },
      "source": [
        "## Part 2 - Building the ANN"
      ]
    },
    {
      "cell_type": "markdown",
      "metadata": {
        "id": "KvdeScabXtlB"
      },
      "source": [
        "### Initializing the ANN"
      ]
    },
    {
      "cell_type": "code",
      "source": [
        "ann = tf.keras.models.Sequential()"
      ],
      "metadata": {
        "id": "M4oC4hCvYzAF"
      },
      "execution_count": 78,
      "outputs": []
    },
    {
      "cell_type": "markdown",
      "metadata": {
        "id": "rP6urV6SX7kS"
      },
      "source": [
        "### Adding the input layer and the first hidden layer"
      ]
    },
    {
      "cell_type": "code",
      "source": [
        "\"\"\"Units => number of neurons in the layer. There is not a rule about this number,\n",
        "we have to do test to determine which one may be good for our project\"\"\"\n",
        "ann.add(tf.keras.layers.Dense(units=6, activation='relu'))"
      ],
      "metadata": {
        "id": "oeQgX1XOZBsm"
      },
      "execution_count": 79,
      "outputs": []
    },
    {
      "cell_type": "markdown",
      "metadata": {
        "id": "BELWAc_8YJze"
      },
      "source": [
        "### Adding the second hidden layer"
      ]
    },
    {
      "cell_type": "code",
      "source": [
        "ann.add(tf.keras.layers.Dense(units=6, activation='relu'))"
      ],
      "metadata": {
        "id": "wlTx_zP1aQDO"
      },
      "execution_count": 80,
      "outputs": []
    },
    {
      "cell_type": "markdown",
      "metadata": {
        "id": "OyNEe6RXYcU4"
      },
      "source": [
        "### Adding the output layer"
      ]
    },
    {
      "cell_type": "code",
      "source": [
        "# \"Units = 1\" because 1 neuron can detect the entire target (0 or 1)\n",
        "ann.add(tf.keras.layers.Dense(units=1))"
      ],
      "metadata": {
        "id": "7SSOlvP1alG5"
      },
      "execution_count": 81,
      "outputs": []
    },
    {
      "cell_type": "markdown",
      "metadata": {
        "id": "JT4u2S1_Y4WG"
      },
      "source": [
        "## Part 3 - Training the ANN"
      ]
    },
    {
      "cell_type": "markdown",
      "metadata": {
        "id": "8GWlJChhY_ZI"
      },
      "source": [
        "### Compiling the ANN"
      ]
    },
    {
      "cell_type": "code",
      "source": [
        "#ann.compile(optimizer = 'adam', loss = 'binary_crossentropy', metrics=['accuracy'])\n",
        "ann.compile(optimizer='adam', loss='mean_squared_error', metrics=['mae'])  # ou 'mse'"
      ],
      "metadata": {
        "id": "lV7MoE7aEtOz"
      },
      "execution_count": 82,
      "outputs": []
    },
    {
      "cell_type": "markdown",
      "metadata": {
        "id": "0QR_G5u7ZLSM"
      },
      "source": [
        "### Training the ANN on the Training set"
      ]
    },
    {
      "cell_type": "code",
      "source": [
        "ann.fit(X_train, y_train, batch_size = 32, epochs = 100)"
      ],
      "metadata": {
        "id": "OtvFZjQWGQJK",
        "colab": {
          "base_uri": "https://localhost:8080/"
        },
        "outputId": "b06b0a51-6983-4b7b-e302-05beeac3e5cf"
      },
      "execution_count": null,
      "outputs": [
        {
          "output_type": "stream",
          "name": "stdout",
          "text": [
            "Epoch 1/100\n",
            "\u001b[1m3519/3519\u001b[0m \u001b[32m━━━━━━━━━━━━━━━━━━━━\u001b[0m\u001b[37m\u001b[0m \u001b[1m10s\u001b[0m 2ms/step - loss: 0.1719 - mae: 0.1898\n",
            "Epoch 2/100\n",
            "\u001b[1m3519/3519\u001b[0m \u001b[32m━━━━━━━━━━━━━━━━━━━━\u001b[0m\u001b[37m\u001b[0m \u001b[1m9s\u001b[0m 2ms/step - loss: 0.0335 - mae: 0.0751\n",
            "Epoch 3/100\n",
            "\u001b[1m3519/3519\u001b[0m \u001b[32m━━━━━━━━━━━━━━━━━━━━\u001b[0m\u001b[37m\u001b[0m \u001b[1m7s\u001b[0m 2ms/step - loss: 0.0301 - mae: 0.0679\n",
            "Epoch 4/100\n",
            "\u001b[1m3519/3519\u001b[0m \u001b[32m━━━━━━━━━━━━━━━━━━━━\u001b[0m\u001b[37m\u001b[0m \u001b[1m8s\u001b[0m 2ms/step - loss: 0.0290 - mae: 0.0655\n",
            "Epoch 5/100\n",
            "\u001b[1m3519/3519\u001b[0m \u001b[32m━━━━━━━━━━━━━━━━━━━━\u001b[0m\u001b[37m\u001b[0m \u001b[1m8s\u001b[0m 2ms/step - loss: 0.0285 - mae: 0.0625\n",
            "Epoch 6/100\n",
            "\u001b[1m3519/3519\u001b[0m \u001b[32m━━━━━━━━━━━━━━━━━━━━\u001b[0m\u001b[37m\u001b[0m \u001b[1m9s\u001b[0m 2ms/step - loss: 0.0285 - mae: 0.0597\n",
            "Epoch 7/100\n",
            "\u001b[1m3519/3519\u001b[0m \u001b[32m━━━━━━━━━━━━━━━━━━━━\u001b[0m\u001b[37m\u001b[0m \u001b[1m9s\u001b[0m 2ms/step - loss: 0.0271 - mae: 0.0580\n",
            "Epoch 8/100\n",
            "\u001b[1m3519/3519\u001b[0m \u001b[32m━━━━━━━━━━━━━━━━━━━━\u001b[0m\u001b[37m\u001b[0m \u001b[1m10s\u001b[0m 2ms/step - loss: 0.0271 - mae: 0.0569\n",
            "Epoch 9/100\n",
            "\u001b[1m3519/3519\u001b[0m \u001b[32m━━━━━━━━━━━━━━━━━━━━\u001b[0m\u001b[37m\u001b[0m \u001b[1m9s\u001b[0m 2ms/step - loss: 0.0265 - mae: 0.0566\n",
            "Epoch 10/100\n",
            "\u001b[1m3519/3519\u001b[0m \u001b[32m━━━━━━━━━━━━━━━━━━━━\u001b[0m\u001b[37m\u001b[0m \u001b[1m9s\u001b[0m 2ms/step - loss: 0.0264 - mae: 0.0561\n",
            "Epoch 11/100\n",
            "\u001b[1m3519/3519\u001b[0m \u001b[32m━━━━━━━━━━━━━━━━━━━━\u001b[0m\u001b[37m\u001b[0m \u001b[1m10s\u001b[0m 2ms/step - loss: 0.0257 - mae: 0.0546\n",
            "Epoch 12/100\n",
            "\u001b[1m3519/3519\u001b[0m \u001b[32m━━━━━━━━━━━━━━━━━━━━\u001b[0m\u001b[37m\u001b[0m \u001b[1m7s\u001b[0m 2ms/step - loss: 0.0265 - mae: 0.0555\n",
            "Epoch 13/100\n",
            "\u001b[1m3519/3519\u001b[0m \u001b[32m━━━━━━━━━━━━━━━━━━━━\u001b[0m\u001b[37m\u001b[0m \u001b[1m9s\u001b[0m 2ms/step - loss: 0.0256 - mae: 0.0543\n",
            "Epoch 14/100\n",
            "\u001b[1m3519/3519\u001b[0m \u001b[32m━━━━━━━━━━━━━━━━━━━━\u001b[0m\u001b[37m\u001b[0m \u001b[1m9s\u001b[0m 2ms/step - loss: 0.0256 - mae: 0.0539\n",
            "Epoch 15/100\n",
            "\u001b[1m3519/3519\u001b[0m \u001b[32m━━━━━━━━━━━━━━━━━━━━\u001b[0m\u001b[37m\u001b[0m \u001b[1m8s\u001b[0m 2ms/step - loss: 0.0260 - mae: 0.0548\n",
            "Epoch 16/100\n",
            "\u001b[1m3519/3519\u001b[0m \u001b[32m━━━━━━━━━━━━━━━━━━━━\u001b[0m\u001b[37m\u001b[0m \u001b[1m11s\u001b[0m 2ms/step - loss: 0.0257 - mae: 0.0539\n",
            "Epoch 17/100\n",
            "\u001b[1m3519/3519\u001b[0m \u001b[32m━━━━━━━━━━━━━━━━━━━━\u001b[0m\u001b[37m\u001b[0m \u001b[1m7s\u001b[0m 2ms/step - loss: 0.0260 - mae: 0.0544\n",
            "Epoch 18/100\n",
            "\u001b[1m3519/3519\u001b[0m \u001b[32m━━━━━━━━━━━━━━━━━━━━\u001b[0m\u001b[37m\u001b[0m \u001b[1m9s\u001b[0m 2ms/step - loss: 0.0261 - mae: 0.0543\n",
            "Epoch 19/100\n",
            "\u001b[1m3519/3519\u001b[0m \u001b[32m━━━━━━━━━━━━━━━━━━━━\u001b[0m\u001b[37m\u001b[0m \u001b[1m10s\u001b[0m 2ms/step - loss: 0.0266 - mae: 0.0547\n",
            "Epoch 20/100\n",
            "\u001b[1m3519/3519\u001b[0m \u001b[32m━━━━━━━━━━━━━━━━━━━━\u001b[0m\u001b[37m\u001b[0m \u001b[1m7s\u001b[0m 2ms/step - loss: 0.0258 - mae: 0.0536\n",
            "Epoch 21/100\n",
            "\u001b[1m3519/3519\u001b[0m \u001b[32m━━━━━━━━━━━━━━━━━━━━\u001b[0m\u001b[37m\u001b[0m \u001b[1m10s\u001b[0m 2ms/step - loss: 0.0255 - mae: 0.0535\n",
            "Epoch 22/100\n",
            "\u001b[1m3519/3519\u001b[0m \u001b[32m━━━━━━━━━━━━━━━━━━━━\u001b[0m\u001b[37m\u001b[0m \u001b[1m11s\u001b[0m 2ms/step - loss: 0.0253 - mae: 0.0535\n",
            "Epoch 23/100\n",
            "\u001b[1m3519/3519\u001b[0m \u001b[32m━━━━━━━━━━━━━━━━━━━━\u001b[0m\u001b[37m\u001b[0m \u001b[1m10s\u001b[0m 2ms/step - loss: 0.0247 - mae: 0.0514\n",
            "Epoch 24/100\n",
            "\u001b[1m3519/3519\u001b[0m \u001b[32m━━━━━━━━━━━━━━━━━━━━\u001b[0m\u001b[37m\u001b[0m \u001b[1m7s\u001b[0m 2ms/step - loss: 0.0255 - mae: 0.0529\n",
            "Epoch 25/100\n",
            "\u001b[1m3519/3519\u001b[0m \u001b[32m━━━━━━━━━━━━━━━━━━━━\u001b[0m\u001b[37m\u001b[0m \u001b[1m9s\u001b[0m 2ms/step - loss: 0.0253 - mae: 0.0527\n",
            "Epoch 26/100\n",
            "\u001b[1m3519/3519\u001b[0m \u001b[32m━━━━━━━━━━━━━━━━━━━━\u001b[0m\u001b[37m\u001b[0m \u001b[1m10s\u001b[0m 2ms/step - loss: 0.0258 - mae: 0.0536\n",
            "Epoch 27/100\n",
            "\u001b[1m3519/3519\u001b[0m \u001b[32m━━━━━━━━━━━━━━━━━━━━\u001b[0m\u001b[37m\u001b[0m \u001b[1m9s\u001b[0m 2ms/step - loss: 0.0248 - mae: 0.0519\n",
            "Epoch 28/100\n",
            "\u001b[1m3519/3519\u001b[0m \u001b[32m━━━━━━━━━━━━━━━━━━━━\u001b[0m\u001b[37m\u001b[0m \u001b[1m10s\u001b[0m 2ms/step - loss: 0.0252 - mae: 0.0519\n",
            "Epoch 29/100\n",
            "\u001b[1m3519/3519\u001b[0m \u001b[32m━━━━━━━━━━━━━━━━━━━━\u001b[0m\u001b[37m\u001b[0m \u001b[1m9s\u001b[0m 2ms/step - loss: 0.0249 - mae: 0.0519\n",
            "Epoch 30/100\n",
            "\u001b[1m3519/3519\u001b[0m \u001b[32m━━━━━━━━━━━━━━━━━━━━\u001b[0m\u001b[37m\u001b[0m \u001b[1m8s\u001b[0m 2ms/step - loss: 0.0251 - mae: 0.0525\n",
            "Epoch 31/100\n",
            "\u001b[1m3519/3519\u001b[0m \u001b[32m━━━━━━━━━━━━━━━━━━━━\u001b[0m\u001b[37m\u001b[0m \u001b[1m9s\u001b[0m 2ms/step - loss: 0.0249 - mae: 0.0520\n",
            "Epoch 32/100\n",
            "\u001b[1m3315/3519\u001b[0m \u001b[32m━━━━━━━━━━━━━━━━━━\u001b[0m\u001b[37m━━\u001b[0m \u001b[1m0s\u001b[0m 3ms/step - loss: 0.0256 - mae: 0.0521"
          ]
        }
      ]
    },
    {
      "cell_type": "markdown",
      "metadata": {
        "id": "tJj5k2MxZga3"
      },
      "source": [
        "## Part 4 - Making the predictions and evaluating the model"
      ]
    },
    {
      "cell_type": "markdown",
      "metadata": {
        "id": "u7yx47jPZt11"
      },
      "source": [
        "### Predicting the Test set results"
      ]
    },
    {
      "cell_type": "code",
      "source": [
        "y_pred = ann.predict(X_test)\n",
        "#y_pred = (y_pred > 0.5)\n",
        "#print(np.concatenate((y_pred.reshape(len(y_pred),1), y_test.reshape(len(y_test),1)),1))\n",
        "\n",
        "print(np.concatenate((y_pred.reshape(len(y_pred),1), y_test.reshape(len(y_test),1)), 1))"
      ],
      "metadata": {
        "id": "rMHaUFGFOB8N",
        "collapsed": true
      },
      "execution_count": null,
      "outputs": []
    },
    {
      "cell_type": "markdown",
      "metadata": {
        "id": "o0oyfLWoaEGw"
      },
      "source": [
        "### Making the Confusion Matrix"
      ]
    },
    {
      "cell_type": "code",
      "source": [
        "from sklearn.metrics import mean_squared_error, mean_absolute_error, r2_score\n",
        "\n",
        "# y_pred est un tableau de float, il ne faut pas faire de seuil ici\n",
        "print(\"MSE :\", mean_squared_error(y_test, y_pred))\n",
        "print(\"MAE :\", mean_absolute_error(y_test, y_pred))\n",
        "print(\"R²  :\", r2_score(y_test, y_pred))"
      ],
      "metadata": {
        "id": "nUKuGBF2OiyX",
        "collapsed": true
      },
      "execution_count": null,
      "outputs": []
    },
    {
      "cell_type": "markdown",
      "source": [
        "### Predict the presence of smells on the latest version"
      ],
      "metadata": {
        "id": "x-umrit4SD6Q"
      }
    }
  ]
}