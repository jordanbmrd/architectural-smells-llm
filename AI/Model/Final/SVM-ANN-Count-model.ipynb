{
 "cells": [
  {
   "cell_type": "code",
   "execution_count": 4,
   "id": "aa089b61-5431-4170-8ff7-61cca4902ac0",
   "metadata": {},
   "outputs": [],
   "source": [
    "#SVM Model"
   ]
  },
  {
   "cell_type": "code",
   "execution_count": 5,
   "id": "526b8788-62f4-4645-944b-3b92d460e862",
   "metadata": {},
   "outputs": [],
   "source": [
    "import pandas as pd\n",
    "import numpy as np\n",
    "from sklearn.preprocessing import LabelEncoder, StandardScaler\n",
    "from sklearn.svm import SVC\n",
    "from sklearn.metrics import accuracy_score, confusion_matrix, classification_report"
   ]
  },
  {
   "cell_type": "code",
   "execution_count": 6,
   "id": "20b261cc-103b-4fcb-88a2-b1a09f5f5c98",
   "metadata": {},
   "outputs": [],
   "source": [
    "df = pd.read_csv(\"dmu-work-c/transformers.csv\")"
   ]
  },
  {
   "cell_type": "code",
   "execution_count": 7,
   "id": "1ad75fe5-78f3-4e4e-b333-0a2c827c4013",
   "metadata": {},
   "outputs": [],
   "source": [
    "version_encoder = LabelEncoder()\n",
    "file_encoder = LabelEncoder()\n",
    "df[\"version_enc\"] = version_encoder.fit_transform(df[\"version\"])\n",
    "df[\"file_enc\"] = file_encoder.fit_transform(df[\"file\"])"
   ]
  },
  {
   "cell_type": "code",
   "execution_count": 8,
   "id": "710f9b74-1d0e-4197-858b-bc9080ded8c3",
   "metadata": {},
   "outputs": [],
   "source": [
    "X = df[[\"version_enc\", \"file_enc\"]].values\n",
    "y = df[\"has_smell\"].values"
   ]
  },
  {
   "cell_type": "code",
   "execution_count": 9,
   "id": "e7f7b04e-d9ba-4569-b1bc-938ae0c37cda",
   "metadata": {},
   "outputs": [],
   "source": [
    "scaler = StandardScaler()\n",
    "X_scaled = scaler.fit_transform(X)"
   ]
  },
  {
   "cell_type": "code",
   "execution_count": 10,
   "id": "d4ebb10e-31fa-46ff-b1ad-30bd93098b40",
   "metadata": {},
   "outputs": [],
   "source": [
    "split_idx = int(0.8 * len(df))\n",
    "X_train, X_test = X_scaled[:split_idx], X_scaled[split_idx:]\n",
    "y_train, y_test = y[:split_idx], y[split_idx:]"
   ]
  },
  {
   "cell_type": "code",
   "execution_count": 11,
   "id": "fcd961f9-d021-4bd2-b0dc-ccf0a42c4058",
   "metadata": {},
   "outputs": [
    {
     "name": "stdout",
     "output_type": "stream",
     "text": [
      "[LibSVM]"
     ]
    },
    {
     "data": {
      "text/html": [
       "<style>#sk-container-id-1 {color: black;}#sk-container-id-1 pre{padding: 0;}#sk-container-id-1 div.sk-toggleable {background-color: white;}#sk-container-id-1 label.sk-toggleable__label {cursor: pointer;display: block;width: 100%;margin-bottom: 0;padding: 0.3em;box-sizing: border-box;text-align: center;}#sk-container-id-1 label.sk-toggleable__label-arrow:before {content: \"▸\";float: left;margin-right: 0.25em;color: #696969;}#sk-container-id-1 label.sk-toggleable__label-arrow:hover:before {color: black;}#sk-container-id-1 div.sk-estimator:hover label.sk-toggleable__label-arrow:before {color: black;}#sk-container-id-1 div.sk-toggleable__content {max-height: 0;max-width: 0;overflow: hidden;text-align: left;background-color: #f0f8ff;}#sk-container-id-1 div.sk-toggleable__content pre {margin: 0.2em;color: black;border-radius: 0.25em;background-color: #f0f8ff;}#sk-container-id-1 input.sk-toggleable__control:checked~div.sk-toggleable__content {max-height: 200px;max-width: 100%;overflow: auto;}#sk-container-id-1 input.sk-toggleable__control:checked~label.sk-toggleable__label-arrow:before {content: \"▾\";}#sk-container-id-1 div.sk-estimator input.sk-toggleable__control:checked~label.sk-toggleable__label {background-color: #d4ebff;}#sk-container-id-1 div.sk-label input.sk-toggleable__control:checked~label.sk-toggleable__label {background-color: #d4ebff;}#sk-container-id-1 input.sk-hidden--visually {border: 0;clip: rect(1px 1px 1px 1px);clip: rect(1px, 1px, 1px, 1px);height: 1px;margin: -1px;overflow: hidden;padding: 0;position: absolute;width: 1px;}#sk-container-id-1 div.sk-estimator {font-family: monospace;background-color: #f0f8ff;border: 1px dotted black;border-radius: 0.25em;box-sizing: border-box;margin-bottom: 0.5em;}#sk-container-id-1 div.sk-estimator:hover {background-color: #d4ebff;}#sk-container-id-1 div.sk-parallel-item::after {content: \"\";width: 100%;border-bottom: 1px solid gray;flex-grow: 1;}#sk-container-id-1 div.sk-label:hover label.sk-toggleable__label {background-color: #d4ebff;}#sk-container-id-1 div.sk-serial::before {content: \"\";position: absolute;border-left: 1px solid gray;box-sizing: border-box;top: 0;bottom: 0;left: 50%;z-index: 0;}#sk-container-id-1 div.sk-serial {display: flex;flex-direction: column;align-items: center;background-color: white;padding-right: 0.2em;padding-left: 0.2em;position: relative;}#sk-container-id-1 div.sk-item {position: relative;z-index: 1;}#sk-container-id-1 div.sk-parallel {display: flex;align-items: stretch;justify-content: center;background-color: white;position: relative;}#sk-container-id-1 div.sk-item::before, #sk-container-id-1 div.sk-parallel-item::before {content: \"\";position: absolute;border-left: 1px solid gray;box-sizing: border-box;top: 0;bottom: 0;left: 50%;z-index: -1;}#sk-container-id-1 div.sk-parallel-item {display: flex;flex-direction: column;z-index: 1;position: relative;background-color: white;}#sk-container-id-1 div.sk-parallel-item:first-child::after {align-self: flex-end;width: 50%;}#sk-container-id-1 div.sk-parallel-item:last-child::after {align-self: flex-start;width: 50%;}#sk-container-id-1 div.sk-parallel-item:only-child::after {width: 0;}#sk-container-id-1 div.sk-dashed-wrapped {border: 1px dashed gray;margin: 0 0.4em 0.5em 0.4em;box-sizing: border-box;padding-bottom: 0.4em;background-color: white;}#sk-container-id-1 div.sk-label label {font-family: monospace;font-weight: bold;display: inline-block;line-height: 1.2em;}#sk-container-id-1 div.sk-label-container {text-align: center;}#sk-container-id-1 div.sk-container {/* jupyter's `normalize.less` sets `[hidden] { display: none; }` but bootstrap.min.css set `[hidden] { display: none !important; }` so we also need the `!important` here to be able to override the default hidden behavior on the sphinx rendered scikit-learn.org. See: https://github.com/scikit-learn/scikit-learn/issues/21755 */display: inline-block !important;position: relative;}#sk-container-id-1 div.sk-text-repr-fallback {display: none;}</style><div id=\"sk-container-id-1\" class=\"sk-top-container\"><div class=\"sk-text-repr-fallback\"><pre>SVC(kernel=&#x27;linear&#x27;, random_state=42, verbose=True)</pre><b>In a Jupyter environment, please rerun this cell to show the HTML representation or trust the notebook. <br />On GitHub, the HTML representation is unable to render, please try loading this page with nbviewer.org.</b></div><div class=\"sk-container\" hidden><div class=\"sk-item\"><div class=\"sk-estimator sk-toggleable\"><input class=\"sk-toggleable__control sk-hidden--visually\" id=\"sk-estimator-id-1\" type=\"checkbox\" checked><label for=\"sk-estimator-id-1\" class=\"sk-toggleable__label sk-toggleable__label-arrow\">SVC</label><div class=\"sk-toggleable__content\"><pre>SVC(kernel=&#x27;linear&#x27;, random_state=42, verbose=True)</pre></div></div></div></div></div>"
      ],
      "text/plain": [
       "SVC(kernel='linear', random_state=42, verbose=True)"
      ]
     },
     "execution_count": 11,
     "metadata": {},
     "output_type": "execute_result"
    }
   ],
   "source": [
    "svm_model = SVC(kernel='linear', probability=False, random_state=42, verbose=True, decision_function_shape=\"ovr\")\n",
    "svm_model.fit(X_train, y_train)"
   ]
  },
  {
   "cell_type": "code",
   "execution_count": 12,
   "id": "f016e689-6ffb-4792-bd0d-036bb5af24ef",
   "metadata": {},
   "outputs": [],
   "source": [
    "y_pred = svm_model.predict(X_test)"
   ]
  },
  {
   "cell_type": "code",
   "execution_count": 13,
   "id": "64cb38cf-d517-4ab4-baec-860e65a07059",
   "metadata": {},
   "outputs": [
    {
     "name": "stdout",
     "output_type": "stream",
     "text": [
      "Accuracy: 0.45310969157816355\n",
      "Confusion Matrix:\n",
      " [[69372     0     0 ...     0     0     0]\n",
      " [39891     0     0 ...     0     0     0]\n",
      " [27277     0     0 ...     0     0     0]\n",
      " ...\n",
      " [    5     0     0 ...     0     0     0]\n",
      " [    2     0     0 ...     0     0     0]\n",
      " [    2     0     0 ...     0     0     0]]\n"
     ]
    },
    {
     "ename": "TypeError",
     "evalue": "got an unexpected keyword argument 'zero_deivision'",
     "output_type": "error",
     "traceback": [
      "\u001b[1;31m---------------------------------------------------------------------------\u001b[0m",
      "\u001b[1;31mTypeError\u001b[0m                                 Traceback (most recent call last)",
      "Cell \u001b[1;32mIn[13], line 3\u001b[0m\n\u001b[0;32m      1\u001b[0m \u001b[38;5;28mprint\u001b[39m(\u001b[38;5;124m\"\u001b[39m\u001b[38;5;124mAccuracy:\u001b[39m\u001b[38;5;124m\"\u001b[39m, accuracy_score(y_test, y_pred))\n\u001b[0;32m      2\u001b[0m \u001b[38;5;28mprint\u001b[39m(\u001b[38;5;124m\"\u001b[39m\u001b[38;5;124mConfusion Matrix:\u001b[39m\u001b[38;5;130;01m\\n\u001b[39;00m\u001b[38;5;124m\"\u001b[39m, confusion_matrix(y_test, y_pred))\n\u001b[1;32m----> 3\u001b[0m \u001b[38;5;28mprint\u001b[39m(\u001b[38;5;124m\"\u001b[39m\u001b[38;5;124mClassification Report:\u001b[39m\u001b[38;5;130;01m\\n\u001b[39;00m\u001b[38;5;124m\"\u001b[39m, \u001b[43mclassification_report\u001b[49m\u001b[43m(\u001b[49m\u001b[43my_test\u001b[49m\u001b[43m,\u001b[49m\u001b[43m \u001b[49m\u001b[43my_pred\u001b[49m\u001b[43m,\u001b[49m\u001b[43m \u001b[49m\u001b[43mzero_deivision\u001b[49m\u001b[38;5;241;43m=\u001b[39;49m\u001b[38;5;241;43m0\u001b[39;49m\u001b[43m)\u001b[49m)\n",
      "File \u001b[1;32m~\\AppData\\Local\\anaconda3\\envs\\tf3.8\\lib\\site-packages\\sklearn\\utils\\_param_validation.py:192\u001b[0m, in \u001b[0;36mvalidate_params.<locals>.decorator.<locals>.wrapper\u001b[1;34m(*args, **kwargs)\u001b[0m\n\u001b[0;32m    189\u001b[0m func_sig \u001b[38;5;241m=\u001b[39m signature(func)\n\u001b[0;32m    191\u001b[0m \u001b[38;5;66;03m# Map *args/**kwargs to the function signature\u001b[39;00m\n\u001b[1;32m--> 192\u001b[0m params \u001b[38;5;241m=\u001b[39m \u001b[43mfunc_sig\u001b[49m\u001b[38;5;241;43m.\u001b[39;49m\u001b[43mbind\u001b[49m\u001b[43m(\u001b[49m\u001b[38;5;241;43m*\u001b[39;49m\u001b[43margs\u001b[49m\u001b[43m,\u001b[49m\u001b[43m \u001b[49m\u001b[38;5;241;43m*\u001b[39;49m\u001b[38;5;241;43m*\u001b[39;49m\u001b[43mkwargs\u001b[49m\u001b[43m)\u001b[49m\n\u001b[0;32m    193\u001b[0m params\u001b[38;5;241m.\u001b[39mapply_defaults()\n\u001b[0;32m    195\u001b[0m \u001b[38;5;66;03m# ignore self/cls and positional/keyword markers\u001b[39;00m\n",
      "File \u001b[1;32m~\\AppData\\Local\\anaconda3\\envs\\tf3.8\\lib\\inspect.py:3037\u001b[0m, in \u001b[0;36mSignature.bind\u001b[1;34m(self, *args, **kwargs)\u001b[0m\n\u001b[0;32m   3032\u001b[0m \u001b[38;5;28;01mdef\u001b[39;00m \u001b[38;5;21mbind\u001b[39m(\u001b[38;5;28mself\u001b[39m, \u001b[38;5;241m/\u001b[39m, \u001b[38;5;241m*\u001b[39margs, \u001b[38;5;241m*\u001b[39m\u001b[38;5;241m*\u001b[39mkwargs):\n\u001b[0;32m   3033\u001b[0m \u001b[38;5;250m    \u001b[39m\u001b[38;5;124;03m\"\"\"Get a BoundArguments object, that maps the passed `args`\u001b[39;00m\n\u001b[0;32m   3034\u001b[0m \u001b[38;5;124;03m    and `kwargs` to the function's signature.  Raises `TypeError`\u001b[39;00m\n\u001b[0;32m   3035\u001b[0m \u001b[38;5;124;03m    if the passed arguments can not be bound.\u001b[39;00m\n\u001b[0;32m   3036\u001b[0m \u001b[38;5;124;03m    \"\"\"\u001b[39;00m\n\u001b[1;32m-> 3037\u001b[0m     \u001b[38;5;28;01mreturn\u001b[39;00m \u001b[38;5;28;43mself\u001b[39;49m\u001b[38;5;241;43m.\u001b[39;49m\u001b[43m_bind\u001b[49m\u001b[43m(\u001b[49m\u001b[43margs\u001b[49m\u001b[43m,\u001b[49m\u001b[43m \u001b[49m\u001b[43mkwargs\u001b[49m\u001b[43m)\u001b[49m\n",
      "File \u001b[1;32m~\\AppData\\Local\\anaconda3\\envs\\tf3.8\\lib\\inspect.py:3026\u001b[0m, in \u001b[0;36mSignature._bind\u001b[1;34m(self, args, kwargs, partial)\u001b[0m\n\u001b[0;32m   3024\u001b[0m         arguments[kwargs_param\u001b[38;5;241m.\u001b[39mname] \u001b[38;5;241m=\u001b[39m kwargs\n\u001b[0;32m   3025\u001b[0m     \u001b[38;5;28;01melse\u001b[39;00m:\n\u001b[1;32m-> 3026\u001b[0m         \u001b[38;5;28;01mraise\u001b[39;00m \u001b[38;5;167;01mTypeError\u001b[39;00m(\n\u001b[0;32m   3027\u001b[0m             \u001b[38;5;124m'\u001b[39m\u001b[38;5;124mgot an unexpected keyword argument \u001b[39m\u001b[38;5;132;01m{arg!r}\u001b[39;00m\u001b[38;5;124m'\u001b[39m\u001b[38;5;241m.\u001b[39mformat(\n\u001b[0;32m   3028\u001b[0m                 arg\u001b[38;5;241m=\u001b[39m\u001b[38;5;28mnext\u001b[39m(\u001b[38;5;28miter\u001b[39m(kwargs))))\n\u001b[0;32m   3030\u001b[0m \u001b[38;5;28;01mreturn\u001b[39;00m \u001b[38;5;28mself\u001b[39m\u001b[38;5;241m.\u001b[39m_bound_arguments_cls(\u001b[38;5;28mself\u001b[39m, arguments)\n",
      "\u001b[1;31mTypeError\u001b[0m: got an unexpected keyword argument 'zero_deivision'"
     ]
    }
   ],
   "source": [
    "print(\"Accuracy:\", accuracy_score(y_test, y_pred))\n",
    "print(\"Confusion Matrix:\\n\", confusion_matrix(y_test, y_pred))\n",
    "print(\"Classification Report:\\n\", classification_report(y_test, y_pred, zero_deivision=0))"
   ]
  },
  {
   "cell_type": "code",
   "execution_count": null,
   "id": "8dcd327e-2f6b-4c69-8e73-3446a0bc8ca7",
   "metadata": {},
   "outputs": [],
   "source": [
    "# ANN Model"
   ]
  },
  {
   "cell_type": "code",
   "execution_count": 20,
   "id": "8155afdb-74fb-4e18-8ae0-14d0c1b9866f",
   "metadata": {},
   "outputs": [],
   "source": [
    "from tensorflow.keras.models import Sequential\n",
    "from tensorflow.keras.layers import Dense\n",
    "from tensorflow.keras.utils import to_categorical"
   ]
  },
  {
   "cell_type": "code",
   "execution_count": 21,
   "id": "ded91ba8-8369-482c-9b4e-24de455b6d52",
   "metadata": {},
   "outputs": [],
   "source": [
    "label_encoder = LabelEncoder()\n",
    "y_encoded = label_encoder.fit_transform(y)\n",
    "\n",
    "num_classes = len(np.unique(y_encoded))\n",
    "y_categorical = to_categorical(y_encoded, num_classes=num_classes)\n",
    "y_train_cat = y_categorical[:split_idx]\n",
    "y_test_cat = y_categorical[split_idx:]"
   ]
  },
  {
   "cell_type": "code",
   "execution_count": 22,
   "id": "a4a3dc7d-92f8-4499-9d0f-1d96ca1ecffe",
   "metadata": {},
   "outputs": [],
   "source": [
    "ann_model = Sequential([\n",
    "    Dense(units=32, activation='relu', input_shape=(X.shape[1],)),\n",
    "    Dense(units=16, activation='relu'),\n",
    "    Dense(units=num_classes, activation='softmax')  # Sortie binaire\n",
    "])"
   ]
  },
  {
   "cell_type": "code",
   "execution_count": 23,
   "id": "6b2558e1-e823-4707-88d0-a747a155dfbb",
   "metadata": {},
   "outputs": [],
   "source": [
    "ann_model.compile(optimizer='adam', loss='categorical_crossentropy', metrics=['accuracy'])"
   ]
  },
  {
   "cell_type": "code",
   "execution_count": 24,
   "id": "6d70a7e0-d31b-41aa-acc4-9f51d0b1d671",
   "metadata": {},
   "outputs": [
    {
     "name": "stdout",
     "output_type": "stream",
     "text": [
      "Epoch 1/10\n",
      "19138/19138 [==============================] - 24s 1ms/step - loss: 0.7130 - accuracy: 0.7920 - val_loss: 1.8281 - val_accuracy: 0.4531\n",
      "Epoch 2/10\n",
      "19138/19138 [==============================] - 25s 1ms/step - loss: 0.6877 - accuracy: 0.7925 - val_loss: 1.8381 - val_accuracy: 0.4531\n",
      "Epoch 3/10\n",
      "19138/19138 [==============================] - 23s 1ms/step - loss: 0.6851 - accuracy: 0.7925 - val_loss: 1.8621 - val_accuracy: 0.4531\n",
      "Epoch 4/10\n",
      "19138/19138 [==============================] - 24s 1ms/step - loss: 0.6836 - accuracy: 0.7925 - val_loss: 1.8340 - val_accuracy: 0.4531\n",
      "Epoch 5/10\n",
      "19138/19138 [==============================] - 25s 1ms/step - loss: 0.6827 - accuracy: 0.7925 - val_loss: 1.9514 - val_accuracy: 0.4531\n",
      "Epoch 6/10\n",
      "19138/19138 [==============================] - 24s 1ms/step - loss: 0.6818 - accuracy: 0.7925 - val_loss: 1.9063 - val_accuracy: 0.4531\n",
      "Epoch 7/10\n",
      "19138/19138 [==============================] - 23s 1ms/step - loss: 0.6811 - accuracy: 0.7925 - val_loss: 1.9165 - val_accuracy: 0.4531\n",
      "Epoch 8/10\n",
      "19138/19138 [==============================] - 25s 1ms/step - loss: 0.6801 - accuracy: 0.7925 - val_loss: 1.9566 - val_accuracy: 0.4531\n",
      "Epoch 9/10\n",
      "19138/19138 [==============================] - 24s 1ms/step - loss: 0.6789 - accuracy: 0.7925 - val_loss: 2.2434 - val_accuracy: 0.4531\n",
      "Epoch 10/10\n",
      "19138/19138 [==============================] - 23s 1ms/step - loss: 0.6780 - accuracy: 0.7925 - val_loss: 2.0490 - val_accuracy: 0.4531\n"
     ]
    },
    {
     "data": {
      "text/plain": [
       "<keras.src.callbacks.History at 0x1f8d3c14430>"
      ]
     },
     "execution_count": 24,
     "metadata": {},
     "output_type": "execute_result"
    }
   ],
   "source": [
    "ann_model.fit(X_train, y_train_cat, epochs=10, batch_size=32, verbose=1, validation_data=(X_test, y_test_cat))"
   ]
  },
  {
   "cell_type": "code",
   "execution_count": 25,
   "id": "25e08abd-c2be-49e2-8e93-f7756e983f71",
   "metadata": {},
   "outputs": [
    {
     "name": "stdout",
     "output_type": "stream",
     "text": [
      "4785/4785 [==============================] - 3s 682us/step\n",
      "Accuracy: 0.45310969157816355\n",
      "Confusion Matrix:\n",
      " [[69372     0     0 ...     0     0     0]\n",
      " [39891     0     0 ...     0     0     0]\n",
      " [27277     0     0 ...     0     0     0]\n",
      " ...\n",
      " [    5     0     0 ...     0     0     0]\n",
      " [    2     0     0 ...     0     0     0]\n",
      " [    2     0     0 ...     0     0     0]]\n",
      "Classification Report:\n",
      "               precision    recall  f1-score   support\n",
      "\n",
      "           0       0.45      1.00      0.62     69372\n",
      "           1       0.00      0.00      0.00     39891\n",
      "           2       0.00      0.00      0.00     27277\n",
      "           3       0.00      0.00      0.00      7094\n",
      "           4       0.00      0.00      0.00      2740\n",
      "           5       0.00      0.00      0.00      2106\n",
      "           6       0.00      0.00      0.00      1056\n",
      "           7       0.00      0.00      0.00       891\n",
      "           8       0.00      0.00      0.00       540\n",
      "           9       0.00      0.00      0.00       431\n",
      "          10       0.00      0.00      0.00       237\n",
      "          11       0.00      0.00      0.00       171\n",
      "          12       0.00      0.00      0.00       235\n",
      "          13       0.00      0.00      0.00        66\n",
      "          14       0.00      0.00      0.00       134\n",
      "          15       0.00      0.00      0.00       109\n",
      "          16       0.00      0.00      0.00       127\n",
      "          17       0.00      0.00      0.00       190\n",
      "          18       0.00      0.00      0.00        69\n",
      "          19       0.00      0.00      0.00        65\n",
      "          20       0.00      0.00      0.00        60\n",
      "          21       0.00      0.00      0.00        19\n",
      "          22       0.00      0.00      0.00         6\n",
      "          23       0.00      0.00      0.00        40\n",
      "          24       0.00      0.00      0.00         6\n",
      "          25       0.00      0.00      0.00        16\n",
      "          26       0.00      0.00      0.00         9\n",
      "          27       0.00      0.00      0.00         9\n",
      "          30       0.00      0.00      0.00        13\n",
      "          31       0.00      0.00      0.00        22\n",
      "          32       0.00      0.00      0.00         7\n",
      "          33       0.00      0.00      0.00         7\n",
      "          34       0.00      0.00      0.00         1\n",
      "          70       0.00      0.00      0.00         4\n",
      "          71       0.00      0.00      0.00        12\n",
      "          72       0.00      0.00      0.00        15\n",
      "          73       0.00      0.00      0.00         3\n",
      "          74       0.00      0.00      0.00         2\n",
      "          75       0.00      0.00      0.00        17\n",
      "          76       0.00      0.00      0.00        10\n",
      "          77       0.00      0.00      0.00        14\n",
      "          79       0.00      0.00      0.00         5\n",
      "          80       0.00      0.00      0.00         2\n",
      "          83       0.00      0.00      0.00         2\n",
      "\n",
      "    accuracy                           0.45    153102\n",
      "   macro avg       0.01      0.02      0.01    153102\n",
      "weighted avg       0.21      0.45      0.28    153102\n",
      "\n"
     ]
    },
    {
     "name": "stderr",
     "output_type": "stream",
     "text": [
      "C:\\Users\\P2937575\\AppData\\Local\\anaconda3\\envs\\tf3.8\\lib\\site-packages\\sklearn\\metrics\\_classification.py:1471: UndefinedMetricWarning: Precision and F-score are ill-defined and being set to 0.0 in labels with no predicted samples. Use `zero_division` parameter to control this behavior.\n",
      "  _warn_prf(average, modifier, msg_start, len(result))\n",
      "C:\\Users\\P2937575\\AppData\\Local\\anaconda3\\envs\\tf3.8\\lib\\site-packages\\sklearn\\metrics\\_classification.py:1471: UndefinedMetricWarning: Precision and F-score are ill-defined and being set to 0.0 in labels with no predicted samples. Use `zero_division` parameter to control this behavior.\n",
      "  _warn_prf(average, modifier, msg_start, len(result))\n",
      "C:\\Users\\P2937575\\AppData\\Local\\anaconda3\\envs\\tf3.8\\lib\\site-packages\\sklearn\\metrics\\_classification.py:1471: UndefinedMetricWarning: Precision and F-score are ill-defined and being set to 0.0 in labels with no predicted samples. Use `zero_division` parameter to control this behavior.\n",
      "  _warn_prf(average, modifier, msg_start, len(result))\n"
     ]
    }
   ],
   "source": [
    "ann_probs = ann_model.predict(X_test)\n",
    "ann_preds = np.argmax(ann_probs, axis=1)\n",
    "print(\"Accuracy:\", accuracy_score(y_test, ann_preds))\n",
    "print(\"Confusion Matrix:\\n\", confusion_matrix(y_test, ann_preds))\n",
    "print(\"Classification Report:\\n\", classification_report(y_test, ann_preds))"
   ]
  },
  {
   "cell_type": "code",
   "execution_count": 26,
   "id": "a8202407-44f8-49cf-8536-81cd887e9455",
   "metadata": {},
   "outputs": [],
   "source": [
    "# Code stacking (SVR)"
   ]
  },
  {
   "cell_type": "code",
   "execution_count": 27,
   "id": "a7663172-22b3-482c-9b78-29dc1b67d535",
   "metadata": {},
   "outputs": [],
   "source": [
    "# Import\n",
    "from sklearn.svm import SVR\n",
    "from sklearn.metrics import mean_squared_error"
   ]
  },
  {
   "cell_type": "code",
   "execution_count": 28,
   "id": "8576aeb1-be7d-4c4a-b73e-d826480d77b4",
   "metadata": {},
   "outputs": [],
   "source": [
    "# Obtenir les prédictions des deux modèles\n",
    "svm_preds = svm_model.decision_function(X_test)"
   ]
  },
  {
   "cell_type": "code",
   "execution_count": 29,
   "id": "bbe49286-f055-4d19-ab41-807de5afa0d7",
   "metadata": {},
   "outputs": [],
   "source": [
    "# Créer les ebtrées du modèle d'ensemble (stacking)\n",
    "stacked_inputs = np.hstack((ann_probs, svm_preds))"
   ]
  },
  {
   "cell_type": "code",
   "execution_count": 30,
   "id": "9a0032a9-ee4c-498b-9ad7-fc6badd094b9",
   "metadata": {},
   "outputs": [],
   "source": [
    "meta_models = []\n",
    "meta_preds = []\n",
    "\n",
    "for class_idx in range(num_classes):\n",
    "    svr = SVR()\n",
    "    svr.fit(stacked_inputs, (y_test == class_idx).astype(float))\n",
    "    meta_models.append(svr)\n",
    "    pred = svr.predict(stacked_inputs)\n",
    "    meta_preds.append(pred)\n",
    "\n",
    "meta_preds = np.vstack(meta_preds).T"
   ]
  },
  {
   "cell_type": "code",
   "execution_count": 31,
   "id": "cabd4299-e9f1-4a69-9677-5382a1f2d01f",
   "metadata": {},
   "outputs": [],
   "source": [
    "# Prédictions finales\n",
    "final_preds = np.argmax(meta_preds, axis=1)"
   ]
  },
  {
   "cell_type": "code",
   "execution_count": 32,
   "id": "ea2a48e7-e122-478c-b3b0-e616b42b398f",
   "metadata": {},
   "outputs": [
    {
     "name": "stdout",
     "output_type": "stream",
     "text": [
      "Accuracy stacking SVR : 0.41106582539744746\n",
      "Confusing Maxtric:\n",
      " [[59967  1355  1553 ...     0     0     0]\n",
      " [30244  1359  1614 ...     0     0     0]\n",
      " [24086   269  1489 ...     0     0     0]\n",
      " ...\n",
      " [    1     0     0 ...     0     0     0]\n",
      " [    0     0     0 ...     0     0     0]\n",
      " [    0     0     0 ...     0     0     0]]\n",
      "Classification Report:\n",
      "               precision    recall  f1-score   support\n",
      "\n",
      "           0       0.47      0.86      0.61     69372\n",
      "           1       0.41      0.03      0.06     39891\n",
      "           2       0.27      0.05      0.09     27277\n",
      "           3       0.00      0.00      0.00      7094\n",
      "           4       0.00      0.00      0.00      2740\n",
      "           5       0.00      0.00      0.00      2106\n",
      "           6       0.01      0.11      0.02      1056\n",
      "           7       0.00      0.00      0.00       891\n",
      "           8       0.00      0.00      0.00       540\n",
      "           9       0.01      0.02      0.01       431\n",
      "          10       0.00      0.00      0.00       237\n",
      "          11       0.00      0.00      0.00       171\n",
      "          12       0.01      0.01      0.01       235\n",
      "          13       0.00      0.00      0.00        66\n",
      "          14       0.00      0.00      0.00       134\n",
      "          15       0.00      0.00      0.00       109\n",
      "          16       0.00      0.00      0.00       127\n",
      "          17       0.00      0.00      0.00       190\n",
      "          18       0.00      0.00      0.00        69\n",
      "          19       0.00      0.00      0.00        65\n",
      "          20       0.00      0.00      0.00        60\n",
      "          21       0.00      0.00      0.00        19\n",
      "          22       0.00      0.00      0.00         6\n",
      "          23       0.00      0.00      0.00        40\n",
      "          24       0.00      0.00      0.00         6\n",
      "          25       0.00      0.00      0.00        16\n",
      "          26       0.00      0.00      0.00         9\n",
      "          27       0.00      0.00      0.00         9\n",
      "          30       0.00      0.00      0.00        13\n",
      "          31       0.00      0.00      0.00        22\n",
      "          32       0.00      0.00      0.00         7\n",
      "          33       0.00      0.00      0.00         7\n",
      "          34       0.00      0.00      0.00         1\n",
      "          70       0.00      0.00      0.00         4\n",
      "          71       0.00      0.00      0.00        12\n",
      "          72       0.00      0.00      0.00        15\n",
      "          73       0.00      0.00      0.00         3\n",
      "          74       0.00      0.00      0.00         2\n",
      "          75       0.00      0.00      0.00        17\n",
      "          76       0.00      0.00      0.00        10\n",
      "          77       0.00      0.00      0.00        14\n",
      "          79       0.00      0.00      0.00         5\n",
      "          80       0.00      0.00      0.00         2\n",
      "          83       0.00      0.00      0.00         2\n",
      "\n",
      "    accuracy                           0.41    153102\n",
      "   macro avg       0.03      0.02      0.02    153102\n",
      "weighted avg       0.37      0.41      0.31    153102\n",
      "\n"
     ]
    },
    {
     "name": "stderr",
     "output_type": "stream",
     "text": [
      "C:\\Users\\P2937575\\AppData\\Local\\anaconda3\\envs\\tf3.8\\lib\\site-packages\\sklearn\\metrics\\_classification.py:1471: UndefinedMetricWarning: Precision and F-score are ill-defined and being set to 0.0 in labels with no predicted samples. Use `zero_division` parameter to control this behavior.\n",
      "  _warn_prf(average, modifier, msg_start, len(result))\n",
      "C:\\Users\\P2937575\\AppData\\Local\\anaconda3\\envs\\tf3.8\\lib\\site-packages\\sklearn\\metrics\\_classification.py:1471: UndefinedMetricWarning: Precision and F-score are ill-defined and being set to 0.0 in labels with no predicted samples. Use `zero_division` parameter to control this behavior.\n",
      "  _warn_prf(average, modifier, msg_start, len(result))\n",
      "C:\\Users\\P2937575\\AppData\\Local\\anaconda3\\envs\\tf3.8\\lib\\site-packages\\sklearn\\metrics\\_classification.py:1471: UndefinedMetricWarning: Precision and F-score are ill-defined and being set to 0.0 in labels with no predicted samples. Use `zero_division` parameter to control this behavior.\n",
      "  _warn_prf(average, modifier, msg_start, len(result))\n"
     ]
    }
   ],
   "source": [
    "# Evaluation\n",
    "print(\"Accuracy stacking SVR :\", accuracy_score(y_test, final_preds))\n",
    "print(\"Confusing Maxtric:\\n\", confusion_matrix(y_test, final_preds))\n",
    "print(\"Classification Report:\\n\", classification_report(y_test, final_preds))"
   ]
  },
  {
   "cell_type": "code",
   "execution_count": null,
   "id": "d06230b8-edc3-42e4-b52e-ec6380f005a3",
   "metadata": {},
   "outputs": [],
   "source": []
  }
 ],
 "metadata": {
  "kernelspec": {
   "display_name": "Python (tf3.8)",
   "language": "python",
   "name": "tf3.8"
  },
  "language_info": {
   "codemirror_mode": {
    "name": "ipython",
    "version": 3
   },
   "file_extension": ".py",
   "mimetype": "text/x-python",
   "name": "python",
   "nbconvert_exporter": "python",
   "pygments_lexer": "ipython3",
   "version": "3.8.20"
  }
 },
 "nbformat": 4,
 "nbformat_minor": 5
}
