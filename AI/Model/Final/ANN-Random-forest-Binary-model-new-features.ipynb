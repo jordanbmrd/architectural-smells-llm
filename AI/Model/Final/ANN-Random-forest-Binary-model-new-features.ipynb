{
 "cells": [
  {
   "cell_type": "code",
   "execution_count": 32,
   "id": "aa089b61-5431-4170-8ff7-61cca4902ac0",
   "metadata": {},
   "outputs": [],
   "source": [
    "# Import\n",
    "import tensorflow as tf\n",
    "import pandas as pd\n",
    "import numpy as np\n",
    "import matplotlib.pyplot as plt\n",
    "from sklearn.compose import ColumnTransformer\n",
    "from sklearn.pipeline import Pipeline\n",
    "from sklearn.preprocessing import LabelEncoder, StandardScaler, OneHotEncoder\n",
    "from sklearn.metrics import accuracy_score, confusion_matrix, classification_report, mean_squared_error\n",
    "from sklearn.svm import SVR\n",
    "from sklearn.ensemble import RandomForestClassifier"
   ]
  },
  {
   "cell_type": "code",
   "execution_count": 33,
   "id": "526b8788-62f4-4645-944b-3b92d460e862",
   "metadata": {},
   "outputs": [],
   "source": [
    "# Load the Dataset\n",
    "df = pd.read_csv(\"dmu-work/transformers-final-reduit.csv\")"
   ]
  },
  {
   "cell_type": "code",
   "execution_count": 34,
   "id": "ca0ec2b3-bd78-4351-8041-81303dbdb771",
   "metadata": {},
   "outputs": [
    {
     "name": "stdout",
     "output_type": "stream",
     "text": [
      "version           0\n",
      "path              0\n",
      "file_type         0\n",
      "line_count        0\n",
      "method_count      0\n",
      "coupling_score    0\n",
      "has_smell         0\n",
      "dtype: int64\n"
     ]
    }
   ],
   "source": [
    "print(df.isnull().sum())"
   ]
  },
  {
   "cell_type": "code",
   "execution_count": 35,
   "id": "da990c1b-d9a3-4e69-b7f1-637477507698",
   "metadata": {
    "scrolled": true
   },
   "outputs": [
    {
     "data": {
      "image/png": "[encoded data removed]",
      "text/plain": [
       "<Figure size 640x480 with 1 Axes>"
      ]
     },
     "metadata": {},
     "output_type": "display_data"
    }
   ],
   "source": [
    "df[\"has_smell\"].value_counts().plot(kind=\"bar\")\n",
    "plt.title(\"Distribution of the target has_smell\")\n",
    "plt.xlabel(\"Value\")\n",
    "plt.ylabel(\"Count\")\n",
    "plt.show()"
   ]
  },
  {
   "cell_type": "code",
   "execution_count": 36,
   "id": "1ad75fe5-78f3-4e4e-b333-0a2c827c4013",
   "metadata": {},
   "outputs": [],
   "source": [
    "# Encoding categorical data\n",
    "categorical_features = [\"version\", \"path\", \"file_type\"]\n",
    "numerical_features = [\"line_count\", \"method_count\", \"coupling_score\"]\n",
    "target_feature = \"has_smell\"\n",
    "\n",
    "# Preprocessing\n",
    "onehot_encoder = OneHotEncoder(sparse_output=False, handle_unknown='ignore')\n",
    "X_cat = onehot_encoder.fit_transform(df[categorical_features])\n",
    "\n",
    "X_num = df[numerical_features].values\n",
    "\n",
    "X_combined = np.concatenate([X_cat, X_num], axis=1)\n",
    "y = df[target_feature].values"
   ]
  },
  {
   "cell_type": "code",
   "execution_count": 37,
   "id": "710f9b74-1d0e-4197-858b-bc9080ded8c3",
   "metadata": {},
   "outputs": [],
   "source": [
    "# Splitting the dataset into the Training set and the Test set\n",
    "split_idx = int(0.8 * len(df))\n",
    "X_train, X_test = X_combined[:split_idx], X_combined[split_idx:]\n",
    "y_train, y_test = y[:split_idx], y[split_idx:]"
   ]
  },
  {
   "cell_type": "code",
   "execution_count": 38,
   "id": "e7f7b04e-d9ba-4569-b1bc-938ae0c37cda",
   "metadata": {},
   "outputs": [],
   "source": [
    "# Feature scaling\n",
    "num_start = X_cat.shape[1]\n",
    "scaler = StandardScaler()\n",
    "X_train = scaler.fit_transform(X_train)\n",
    "X_test = scaler.fit_transform(X_test)"
   ]
  },
  {
   "cell_type": "markdown",
   "id": "9915699b",
   "metadata": {},
   "source": [
    "# ANN Model"
   ]
  },
  {
   "cell_type": "code",
   "execution_count": 40,
   "id": "fdbd31ea-f404-40ec-be9e-84a9f4603aa1",
   "metadata": {},
   "outputs": [],
   "source": [
    "ann_model = tf.keras.models.Sequential()\n",
    "ann_model.add(tf.keras.layers.Dense(units=64, activation='relu'))\n",
    "ann_model.add(tf.keras.layers.Dropout(0.3))\n",
    "ann_model.add(tf.keras.layers.Dense(units=32, activation='relu'))\n",
    "ann_model.add(tf.keras.layers.Dropout(0.3))\n",
    "ann_model.add(tf.keras.layers.Dense(units=1, activation='sigmoid'))"
   ]
  },
  {
   "cell_type": "code",
   "execution_count": 41,
   "id": "57842004-c407-4952-a0f9-7b470a0b3c1c",
   "metadata": {},
   "outputs": [],
   "source": [
    "ann_model.compile(optimizer='adam', loss='binary_crossentropy', metrics=['accuracy'])"
   ]
  },
  {
   "cell_type": "code",
   "execution_count": null,
   "id": "923bed27-7175-42bc-89ed-d4aa6ae3e15f",
   "metadata": {},
   "outputs": [
    {
     "name": "stdout",
     "output_type": "stream",
     "text": [
      "Epoch 1/100\n",
      "5248/5248 [==============================] - 23s 4ms/step - loss: 0.1283 - accuracy: 0.9469 - val_loss: 0.6910 - val_accuracy: 0.8721\n",
      "Epoch 2/100\n",
      "5248/5248 [==============================] - 19s 4ms/step - loss: 0.0451 - accuracy: 0.9810 - val_loss: 0.8779 - val_accuracy: 0.8732\n",
      "Epoch 3/100\n",
      "5248/5248 [==============================] - 19s 4ms/step - loss: 0.0305 - accuracy: 0.9870 - val_loss: 1.1724 - val_accuracy: 0.8788\n",
      "Epoch 4/100\n",
      "5248/5248 [==============================] - 20s 4ms/step - loss: 0.0219 - accuracy: 0.9911 - val_loss: 1.5352 - val_accuracy: 0.8745\n",
      "Epoch 5/100\n",
      "5248/5248 [==============================] - 19s 4ms/step - loss: 0.0168 - accuracy: 0.9933 - val_loss: 1.6812 - val_accuracy: 0.8754\n",
      "Epoch 6/100\n",
      "5248/5248 [==============================] - 19s 4ms/step - loss: 0.0122 - accuracy: 0.9952 - val_loss: 2.0514 - val_accuracy: 0.8787\n",
      "Epoch 7/100\n",
      "5248/5248 [==============================] - 19s 4ms/step - loss: 0.0093 - accuracy: 0.9964 - val_loss: 2.0916 - val_accuracy: 0.8774\n",
      "Epoch 8/100\n",
      "5248/5248 [==============================] - 19s 4ms/step - loss: 0.0077 - accuracy: 0.9972 - val_loss: 2.2073 - val_accuracy: 0.8770\n",
      "Epoch 9/100\n",
      "5248/5248 [==============================] - 19s 4ms/step - loss: 0.0061 - accuracy: 0.9979 - val_loss: 3.0975 - val_accuracy: 0.8758\n",
      "Epoch 10/100\n",
      "5248/5248 [==============================] - 21s 4ms/step - loss: 0.0052 - accuracy: 0.9981 - val_loss: 3.0443 - val_accuracy: 0.8767\n",
      "Epoch 11/100\n",
      "5248/5248 [==============================] - 17s 3ms/step - loss: 0.0051 - accuracy: 0.9982 - val_loss: 3.2837 - val_accuracy: 0.8757\n"
     ]
    },
    {
     "data": {
      "text/plain": [
       "<keras.src.callbacks.History at 0x1c1c01c8430>"
      ]
     },
     "execution_count": 42,
     "metadata": {},
     "output_type": "execute_result"
    }
   ],
   "source": [
    "callback = tf.keras.callbacks.EarlyStopping(monitor='val_loss', patience=30, restore_best_weights=True)\n",
    "ann_model.fit(X_train, y_train, validation_split=0.2, epochs=100, batch_size=32, callbacks=[callback])"
   ]
  },
  {
   "cell_type": "code",
   "execution_count": 43,
   "id": "75e7bb74-cdef-43c5-9c6e-d190ac8fbf03",
   "metadata": {},
   "outputs": [
    {
     "name": "stdout",
     "output_type": "stream",
     "text": [
      "1640/1640 [==============================] - 2s 1ms/step\n",
      "Accuracy: 0.8917136758652233\n",
      "Confusion Matrix:\n",
      " [[23094   326]\n",
      " [ 5356 23696]]\n",
      "Classification Report:\n",
      "               precision    recall  f1-score   support\n",
      "\n",
      "           0       0.81      0.99      0.89     23420\n",
      "           1       0.99      0.82      0.89     29052\n",
      "\n",
      "    accuracy                           0.89     52472\n",
      "   macro avg       0.90      0.90      0.89     52472\n",
      "weighted avg       0.91      0.89      0.89     52472\n",
      "\n"
     ]
    }
   ],
   "source": [
    "y_pred_ann = (ann_model.predict(X_test) > 0.5).astype(int).flatten()\n",
    "print(\"Accuracy:\", accuracy_score(y_test, y_pred_ann))\n",
    "print(\"Confusion Matrix:\\n\", confusion_matrix(y_test, y_pred_ann))\n",
    "print(\"Classification Report:\\n\", classification_report(y_test, y_pred_ann))"
   ]
  },
  {
   "cell_type": "markdown",
   "id": "b69a93b2",
   "metadata": {},
   "source": [
    "# Random Forest Model"
   ]
  },
  {
   "cell_type": "code",
   "execution_count": 45,
   "id": "ca940847-a980-4e19-881c-edf7b27acd71",
   "metadata": {},
   "outputs": [],
   "source": [
    "forest_model = RandomForestClassifier(n_estimators=300, random_state=42, n_jobs=-1)\n",
    "forest_model.fit(X_train, y_train)\n",
    "y_pred_forest = forest_model.predict(X_test)"
   ]
  },
  {
   "cell_type": "code",
   "execution_count": 46,
   "id": "d0094980-fd07-4cd2-9c6a-ce1de1d79ccc",
   "metadata": {},
   "outputs": [
    {
     "name": "stdout",
     "output_type": "stream",
     "text": [
      "Accuracy: 0.9040821771611526\n",
      "Confusion Matrix:\n",
      " [[23124   296]\n",
      " [ 4737 24315]]\n",
      "Classification Report:\n",
      "               precision    recall  f1-score   support\n",
      "\n",
      "           0       0.83      0.99      0.90     23420\n",
      "           1       0.99      0.84      0.91     29052\n",
      "\n",
      "    accuracy                           0.90     52472\n",
      "   macro avg       0.91      0.91      0.90     52472\n",
      "weighted avg       0.92      0.90      0.90     52472\n",
      "\n"
     ]
    }
   ],
   "source": [
    "print(\"Accuracy:\", accuracy_score(y_test, y_pred_forest))\n",
    "print(\"Confusion Matrix:\\n\", confusion_matrix(y_test, y_pred_forest))\n",
    "print(\"Classification Report:\\n\", classification_report(y_test, y_pred_forest))"
   ]
  },
  {
   "cell_type": "markdown",
   "id": "59786134",
   "metadata": {},
   "source": [
    "# Code Stacking (SVR)"
   ]
  },
  {
   "cell_type": "code",
   "execution_count": 48,
   "id": "bbe49286-f055-4d19-ab41-807de5afa0d7",
   "metadata": {},
   "outputs": [
    {
     "name": "stdout",
     "output_type": "stream",
     "text": [
      "1640/1640 [==============================] - 2s 1ms/step\n"
     ]
    }
   ],
   "source": [
    "# Créer les ebtrées du modèle d'ensemble (stacking)\n",
    "ann_preds = ann_model.predict(X_test).flatten()\n",
    "forest_preds = forest_model.predict(X_test)\n",
    "stacked_inputs = np.column_stack((ann_preds, forest_preds))"
   ]
  },
  {
   "cell_type": "code",
   "execution_count": 49,
   "id": "9a0032a9-ee4c-498b-9ad7-fc6badd094b9",
   "metadata": {},
   "outputs": [
    {
     "data": {
      "text/html": [
       "<style>#sk-container-id-2 {color: black;}#sk-container-id-2 pre{padding: 0;}#sk-container-id-2 div.sk-toggleable {background-color: white;}#sk-container-id-2 label.sk-toggleable__label {cursor: pointer;display: block;width: 100%;margin-bottom: 0;padding: 0.3em;box-sizing: border-box;text-align: center;}#sk-container-id-2 label.sk-toggleable__label-arrow:before {content: \"▸\";float: left;margin-right: 0.25em;color: #696969;}#sk-container-id-2 label.sk-toggleable__label-arrow:hover:before {color: black;}#sk-container-id-2 div.sk-estimator:hover label.sk-toggleable__label-arrow:before {color: black;}#sk-container-id-2 div.sk-toggleable__content {max-height: 0;max-width: 0;overflow: hidden;text-align: left;background-color: #f0f8ff;}#sk-container-id-2 div.sk-toggleable__content pre {margin: 0.2em;color: black;border-radius: 0.25em;background-color: #f0f8ff;}#sk-container-id-2 input.sk-toggleable__control:checked~div.sk-toggleable__content {max-height: 200px;max-width: 100%;overflow: auto;}#sk-container-id-2 input.sk-toggleable__control:checked~label.sk-toggleable__label-arrow:before {content: \"▾\";}#sk-container-id-2 div.sk-estimator input.sk-toggleable__control:checked~label.sk-toggleable__label {background-color: #d4ebff;}#sk-container-id-2 div.sk-label input.sk-toggleable__control:checked~label.sk-toggleable__label {background-color: #d4ebff;}#sk-container-id-2 input.sk-hidden--visually {border: 0;clip: rect(1px 1px 1px 1px);clip: rect(1px, 1px, 1px, 1px);height: 1px;margin: -1px;overflow: hidden;padding: 0;position: absolute;width: 1px;}#sk-container-id-2 div.sk-estimator {font-family: monospace;background-color: #f0f8ff;border: 1px dotted black;border-radius: 0.25em;box-sizing: border-box;margin-bottom: 0.5em;}#sk-container-id-2 div.sk-estimator:hover {background-color: #d4ebff;}#sk-container-id-2 div.sk-parallel-item::after {content: \"\";width: 100%;border-bottom: 1px solid gray;flex-grow: 1;}#sk-container-id-2 div.sk-label:hover label.sk-toggleable__label {background-color: #d4ebff;}#sk-container-id-2 div.sk-serial::before {content: \"\";position: absolute;border-left: 1px solid gray;box-sizing: border-box;top: 0;bottom: 0;left: 50%;z-index: 0;}#sk-container-id-2 div.sk-serial {display: flex;flex-direction: column;align-items: center;background-color: white;padding-right: 0.2em;padding-left: 0.2em;position: relative;}#sk-container-id-2 div.sk-item {position: relative;z-index: 1;}#sk-container-id-2 div.sk-parallel {display: flex;align-items: stretch;justify-content: center;background-color: white;position: relative;}#sk-container-id-2 div.sk-item::before, #sk-container-id-2 div.sk-parallel-item::before {content: \"\";position: absolute;border-left: 1px solid gray;box-sizing: border-box;top: 0;bottom: 0;left: 50%;z-index: -1;}#sk-container-id-2 div.sk-parallel-item {display: flex;flex-direction: column;z-index: 1;position: relative;background-color: white;}#sk-container-id-2 div.sk-parallel-item:first-child::after {align-self: flex-end;width: 50%;}#sk-container-id-2 div.sk-parallel-item:last-child::after {align-self: flex-start;width: 50%;}#sk-container-id-2 div.sk-parallel-item:only-child::after {width: 0;}#sk-container-id-2 div.sk-dashed-wrapped {border: 1px dashed gray;margin: 0 0.4em 0.5em 0.4em;box-sizing: border-box;padding-bottom: 0.4em;background-color: white;}#sk-container-id-2 div.sk-label label {font-family: monospace;font-weight: bold;display: inline-block;line-height: 1.2em;}#sk-container-id-2 div.sk-label-container {text-align: center;}#sk-container-id-2 div.sk-container {/* jupyter's `normalize.less` sets `[hidden] { display: none; }` but bootstrap.min.css set `[hidden] { display: none !important; }` so we also need the `!important` here to be able to override the default hidden behavior on the sphinx rendered scikit-learn.org. See: https://github.com/scikit-learn/scikit-learn/issues/21755 */display: inline-block !important;position: relative;}#sk-container-id-2 div.sk-text-repr-fallback {display: none;}</style><div id=\"sk-container-id-2\" class=\"sk-top-container\"><div class=\"sk-text-repr-fallback\"><pre>SVR()</pre><b>In a Jupyter environment, please rerun this cell to show the HTML representation or trust the notebook. <br />On GitHub, the HTML representation is unable to render, please try loading this page with nbviewer.org.</b></div><div class=\"sk-container\" hidden><div class=\"sk-item\"><div class=\"sk-estimator sk-toggleable\"><input class=\"sk-toggleable__control sk-hidden--visually\" id=\"sk-estimator-id-2\" type=\"checkbox\" checked><label for=\"sk-estimator-id-2\" class=\"sk-toggleable__label sk-toggleable__label-arrow\">SVR</label><div class=\"sk-toggleable__content\"><pre>SVR()</pre></div></div></div></div></div>"
      ],
      "text/plain": [
       "SVR()"
      ]
     },
     "execution_count": 49,
     "metadata": {},
     "output_type": "execute_result"
    }
   ],
   "source": [
    "# Entrîner le modèle méta (SVR)\n",
    "meta_model = SVR()\n",
    "meta_model.fit(stacked_inputs, y_test)"
   ]
  },
  {
   "cell_type": "code",
   "execution_count": 50,
   "id": "cabd4299-e9f1-4a69-9677-5382a1f2d01f",
   "metadata": {},
   "outputs": [],
   "source": [
    "# Prédictions finales\n",
    "final_preds = meta_model.predict(stacked_inputs)"
   ]
  },
  {
   "cell_type": "code",
   "execution_count": 51,
   "id": "ea2a48e7-e122-478c-b3b0-e616b42b398f",
   "metadata": {},
   "outputs": [
    {
     "name": "stdout",
     "output_type": "stream",
     "text": [
      "MSE du modèle de stacking (SVR): 0.05178959566589187\n",
      "Prédictions (extrait): [0.09994844 0.90014426 0.90048149 0.10012779 0.09997209 0.90035247\n",
      " 0.89996699 0.09993123 0.90047689 0.09992857]\n"
     ]
    }
   ],
   "source": [
    "# Evaluation\n",
    "mse = mean_squared_error(y_test, final_preds)\n",
    "print(\"MSE du modèle de stacking (SVR):\", mse)\n",
    "print(\"Prédictions (extrait):\", final_preds[:10])"
   ]
  },
  {
   "cell_type": "code",
   "execution_count": 52,
   "id": "553fbd75-6b93-4fea-a083-c0b0f526995d",
   "metadata": {},
   "outputs": [
    {
     "name": "stdout",
     "output_type": "stream",
     "text": [
      "Accuracy stacking SVR : 0.942273974691264\n",
      "Confusing Maxtric:\n",
      " [[22848   572]\n",
      " [ 2457 26595]]\n",
      "Classification Report:\n",
      "               precision    recall  f1-score   support\n",
      "\n",
      "           0       0.90      0.98      0.94     23420\n",
      "           1       0.98      0.92      0.95     29052\n",
      "\n",
      "    accuracy                           0.94     52472\n",
      "   macro avg       0.94      0.95      0.94     52472\n",
      "weighted avg       0.95      0.94      0.94     52472\n",
      "\n"
     ]
    }
   ],
   "source": [
    "final_preds_binary = (final_preds >= 0.5).astype(int)\n",
    "\n",
    "# Accuracy\n",
    "accuracy = accuracy_score(y_test, final_preds_binary)\n",
    "print(\"Accuracy stacking SVR :\", accuracy)\n",
    "\n",
    "# Evaluation complète\n",
    "print(\"Confusing Maxtric:\\n\", confusion_matrix(y_test, final_preds_binary))\n",
    "print(\"Classification Report:\\n\", classification_report(y_test, final_preds_binary))"
   ]
  }
 ],
 "metadata": {
  "kernelspec": {
   "display_name": "Python (tf3.8)",
   "language": "python",
   "name": "tf3.8"
  },
  "language_info": {
   "codemirror_mode": {
    "name": "ipython",
    "version": 3
   },
   "file_extension": ".py",
   "mimetype": "text/x-python",
   "name": "python",
   "nbconvert_exporter": "python",
   "pygments_lexer": "ipython3",
   "version": "3.8.20"
  }
 },
 "nbformat": 4,
 "nbformat_minor": 5
}
