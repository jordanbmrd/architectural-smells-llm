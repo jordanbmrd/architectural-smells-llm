{
 "cells": [
  {
   "cell_type": "code",
   "execution_count": 1,
   "id": "869aa1e7-cfdf-4ba4-a632-5be4839141e1",
   "metadata": {},
   "outputs": [],
   "source": [
    "import tensorflow as tf\n",
    "import pandas as pd\n",
    "import numpy as np\n",
    "import matplotlib.pyplot as plt\n",
    "from sklearn.compose import ColumnTransformer\n",
    "from sklearn.pipeline import Pipeline\n",
    "from sklearn.preprocessing import LabelEncoder, StandardScaler, OneHotEncoder\n",
    "from sklearn.metrics import accuracy_score, confusion_matrix, classification_report"
   ]
  },
  {
   "cell_type": "code",
   "execution_count": 2,
   "id": "8f30b896-fa5c-4d36-9e9d-184108b9d931",
   "metadata": {},
   "outputs": [],
   "source": [
    "df = pd.read_csv(\"dmu-work/test.csv\")"
   ]
  },
  {
   "cell_type": "code",
   "execution_count": 3,
   "id": "81b69fd2-5c5e-4eef-9ac0-f99b0bbc7935",
   "metadata": {},
   "outputs": [
    {
     "name": "stdout",
     "output_type": "stream",
     "text": [
      "version      0\n",
      "file         0\n",
      "has_smell    0\n",
      "dtype: int64\n"
     ]
    }
   ],
   "source": [
    "print(df.isnull().sum())"
   ]
  },
  {
   "cell_type": "code",
   "execution_count": 4,
   "id": "856b57fa-39e1-4731-8b34-4a4189de187a",
   "metadata": {},
   "outputs": [
    {
     "data": {
      "image/png": "[encoded data removed]",
      "text/plain": [
       "<Figure size 640x480 with 1 Axes>"
      ]
     },
     "metadata": {},
     "output_type": "display_data"
    }
   ],
   "source": [
    "df[\"has_smell\"].value_counts().plot(kind=\"bar\")\n",
    "plt.title(\"Distribution de la variable has_smell\")\n",
    "plt.xlabel(\"Classe\")\n",
    "plt.ylabel(\"Nombre d'exemples\")\n",
    "plt.show()"
   ]
  },
  {
   "cell_type": "code",
   "execution_count": 5,
   "id": "2685b808-874b-4c30-b52a-7134c47c84c0",
   "metadata": {},
   "outputs": [],
   "source": [
    "categorical_features = [\"version\", \"file\"]\n",
    "target_feature = \"has_smell\"\n",
    "\n",
    "onehot_encoder = OneHotEncoder(sparse_output=False, handle_unknown='ignore')\n",
    "preprocessor = ColumnTransformer(\n",
    "    transformers=[\n",
    "        ('onehot', onehot_encoder, categorical_features)\n",
    "    ],\n",
    "    remainder='drop'\n",
    ")\n",
    "\n",
    "X = preprocessor.fit_transform(df[categorical_features])\n",
    "y = df[target_feature].values"
   ]
  },
  {
   "cell_type": "code",
   "execution_count": 6,
   "id": "9652c491-cdc7-4fc6-b0d5-e334c3b52582",
   "metadata": {},
   "outputs": [],
   "source": [
    "split_idx = int(0.8 * len(df))\n",
    "X_train, X_test = X[:split_idx], X[split_idx:]\n",
    "y_train, y_test = y[:split_idx], y[split_idx:]"
   ]
  },
  {
   "cell_type": "code",
   "execution_count": 7,
   "id": "63975669-847e-44ac-b078-0c2e4a91d6dd",
   "metadata": {},
   "outputs": [],
   "source": [
    "\"\"\"\n",
    "scaler = StandardScaler()\n",
    "X_train = scaler.fit_transform(X_train)\n",
    "X_test = scaler.transform(X_test\n",
    "\"\"\""
   ]
  },
  {
   "cell_type": "code",
   "execution_count": 8,
   "id": "ae334e91-efef-4ec6-8ecb-cfae994d754b",
   "metadata": {},
   "outputs": [],
   "source": [
    "ann_model = tf.keras.models.Sequential()\n",
    "ann_model.add(tf.keras.layers.Dense(units=64, activation='relu'))\n",
    "ann_model.add(tf.keras.layers.Dropout(0.3))\n",
    "ann_model.add(tf.keras.layers.Dense(units=32, activation='relu'))\n",
    "ann_model.add(tf.keras.layers.Dropout(0.3))\n",
    "ann_model.add(tf.keras.layers.Dense(units=1, activation='sigmoid'))"
   ]
  },
  {
   "cell_type": "code",
   "execution_count": 9,
   "id": "3b3bc59e-b197-4c82-a476-d482fa8e5786",
   "metadata": {},
   "outputs": [],
   "source": [
    "ann_model.compile(optimizer='adam', loss='binary_crossentropy', metrics=['accuracy'])"
   ]
  },
  {
   "cell_type": "code",
   "execution_count": 10,
   "id": "fbb4a88c-9999-4b1a-8fe0-178033c7535e",
   "metadata": {},
   "outputs": [
    {
     "name": "stdout",
     "output_type": "stream",
     "text": [
      "Epoch 1/100\n",
      "10567/10567 [==============================] - 48s 4ms/step - loss: 0.0824 - accuracy: 0.9642 - val_loss: 0.9349 - val_accuracy: 0.8466\n",
      "Epoch 2/100\n",
      "10567/10567 [==============================] - 37s 3ms/step - loss: 0.0251 - accuracy: 0.9899 - val_loss: 1.4977 - val_accuracy: 0.8492\n",
      "Epoch 3/100\n",
      "10567/10567 [==============================] - 37s 4ms/step - loss: 0.0145 - accuracy: 0.9943 - val_loss: 2.3248 - val_accuracy: 0.8426\n",
      "Epoch 4/100\n",
      "10567/10567 [==============================] - 37s 3ms/step - loss: 0.0104 - accuracy: 0.9960 - val_loss: 2.4017 - val_accuracy: 0.8533\n",
      "Epoch 5/100\n",
      "10567/10567 [==============================] - 36s 3ms/step - loss: 0.0082 - accuracy: 0.9969 - val_loss: 3.2219 - val_accuracy: 0.8527\n",
      "Epoch 6/100\n",
      "10567/10567 [==============================] - 38s 4ms/step - loss: 0.0063 - accuracy: 0.9976 - val_loss: 3.3876 - val_accuracy: 0.8542\n",
      "Epoch 7/100\n",
      "10567/10567 [==============================] - 37s 4ms/step - loss: 0.0057 - accuracy: 0.9979 - val_loss: 3.5374 - val_accuracy: 0.8555\n",
      "Epoch 8/100\n",
      "10567/10567 [==============================] - 36s 3ms/step - loss: 0.0051 - accuracy: 0.9981 - val_loss: 2.8816 - val_accuracy: 0.8646\n",
      "Epoch 9/100\n",
      "10567/10567 [==============================] - 37s 4ms/step - loss: 0.0045 - accuracy: 0.9983 - val_loss: 4.1737 - val_accuracy: 0.8589\n",
      "Epoch 10/100\n",
      "10567/10567 [==============================] - 36s 3ms/step - loss: 0.0044 - accuracy: 0.9983 - val_loss: 3.5252 - val_accuracy: 0.8587\n",
      "Epoch 11/100\n",
      "10567/10567 [==============================] - 38s 4ms/step - loss: 0.0036 - accuracy: 0.9986 - val_loss: 4.2407 - val_accuracy: 0.8603\n"
     ]
    },
    {
     "data": {
      "text/plain": [
       "<keras.src.callbacks.History at 0x28fc86cda30>"
      ]
     },
     "execution_count": 10,
     "metadata": {},
     "output_type": "execute_result"
    }
   ],
   "source": [
    "callback = tf.keras.callbacks.EarlyStopping(monitor='val_loss', patience=10, restore_best_weights=True)\n",
    "ann_model.fit(X_train, y_train, validation_split=0.2, epochs=100, batch_size=32, callbacks=[callback])"
   ]
  },
  {
   "cell_type": "code",
   "execution_count": 11,
   "id": "c9a5e347-49c1-4b94-9d3e-c32120afe30a",
   "metadata": {},
   "outputs": [
    {
     "name": "stdout",
     "output_type": "stream",
     "text": [
      "3303/3303 [==============================] - 6s 2ms/step\n",
      "Accuracy: 0.7984839451494762\n",
      "Confusion Matrix:\n",
      " [[36005   582]\n",
      " [20712 48370]]\n",
      "Classification Report:\n",
      "               precision    recall  f1-score   support\n",
      "\n",
      "           0       0.63      0.98      0.77     36587\n",
      "           1       0.99      0.70      0.82     69082\n",
      "\n",
      "    accuracy                           0.80    105669\n",
      "   macro avg       0.81      0.84      0.80    105669\n",
      "weighted avg       0.87      0.80      0.80    105669\n",
      "\n"
     ]
    }
   ],
   "source": [
    "y_pred_ann = (ann_model.predict(X_test) > 0.5).astype(int).flatten()\n",
    "print(\"Accuracy:\", accuracy_score(y_test, y_pred_ann))\n",
    "print(\"Confusion Matrix:\\n\", confusion_matrix(y_test, y_pred_ann))\n",
    "print(\"Classification Report:\\n\", classification_report(y_test, y_pred_ann))"
   ]
  },
  {
   "cell_type": "code",
   "execution_count": null,
   "id": "544a6ed7-01a0-4526-923b-3385a7f6bf23",
   "metadata": {},
   "outputs": [],
   "source": []
  }
 ],
 "metadata": {
  "kernelspec": {
   "display_name": "Python (tf3.8)",
   "language": "python",
   "name": "tf3.8"
  },
  "language_info": {
   "codemirror_mode": {
    "name": "ipython",
    "version": 3
   },
   "file_extension": ".py",
   "mimetype": "text/x-python",
   "name": "python",
   "nbconvert_exporter": "python",
   "pygments_lexer": "ipython3",
   "version": "3.8.20"
  }
 },
 "nbformat": 4,
 "nbformat_minor": 5
}
