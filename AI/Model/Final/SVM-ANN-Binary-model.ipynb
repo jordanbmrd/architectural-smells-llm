{
 "cells": [
  {
   "cell_type": "code",
   "execution_count": null,
   "id": "aa089b61-5431-4170-8ff7-61cca4902ac0",
   "metadata": {},
   "outputs": [],
   "source": [
    "#SVM Model"
   ]
  },
  {
   "cell_type": "code",
   "execution_count": 2,
   "id": "526b8788-62f4-4645-944b-3b92d460e862",
   "metadata": {},
   "outputs": [],
   "source": [
    "import pandas as pd\n",
    "import numpy as np\n",
    "from sklearn.preprocessing import LabelEncoder, StandardScaler\n",
    "from sklearn.svm import SVC\n",
    "from sklearn.metrics import accuracy_score, confusion_matrix, classification_report"
   ]
  },
  {
   "cell_type": "code",
   "execution_count": 3,
   "id": "20b261cc-103b-4fcb-88a2-b1a09f5f5c98",
   "metadata": {},
   "outputs": [],
   "source": [
    "df = pd.read_csv(\"dmu-work/test.csv\")"
   ]
  },
  {
   "cell_type": "code",
   "execution_count": 4,
   "id": "1ad75fe5-78f3-4e4e-b333-0a2c827c4013",
   "metadata": {},
   "outputs": [],
   "source": [
    "version_encoder = LabelEncoder()\n",
    "file_encoder = LabelEncoder()\n",
    "df[\"version_enc\"] = version_encoder.fit_transform(df[\"version\"])\n",
    "df[\"file_enc\"] = file_encoder.fit_transform(df[\"file\"])"
   ]
  },
  {
   "cell_type": "code",
   "execution_count": 5,
   "id": "710f9b74-1d0e-4197-858b-bc9080ded8c3",
   "metadata": {},
   "outputs": [],
   "source": [
    "X = df[[\"version_enc\", \"file_enc\"]].values\n",
    "y = df[\"has_smell\"].values"
   ]
  },
  {
   "cell_type": "code",
   "execution_count": 6,
   "id": "e7f7b04e-d9ba-4569-b1bc-938ae0c37cda",
   "metadata": {},
   "outputs": [],
   "source": [
    "scaler = StandardScaler()\n",
    "X_scaled = scaler.fit_transform(X)"
   ]
  },
  {
   "cell_type": "code",
   "execution_count": 7,
   "id": "d4ebb10e-31fa-46ff-b1ad-30bd93098b40",
   "metadata": {},
   "outputs": [],
   "source": [
    "split_idx = int(0.8 * len(df))\n",
    "X_train, X_test = X_scaled[:split_idx], X_scaled[split_idx:]\n",
    "y_train, y_test = y[:split_idx], y[split_idx:]"
   ]
  },
  {
   "cell_type": "code",
   "execution_count": 8,
   "id": "fcd961f9-d021-4bd2-b0dc-ccf0a42c4058",
   "metadata": {},
   "outputs": [
    {
     "name": "stdout",
     "output_type": "stream",
     "text": [
      "[LibSVM]"
     ]
    },
    {
     "data": {
      "text/html": [
       "<style>#sk-container-id-1 {color: black;}#sk-container-id-1 pre{padding: 0;}#sk-container-id-1 div.sk-toggleable {background-color: white;}#sk-container-id-1 label.sk-toggleable__label {cursor: pointer;display: block;width: 100%;margin-bottom: 0;padding: 0.3em;box-sizing: border-box;text-align: center;}#sk-container-id-1 label.sk-toggleable__label-arrow:before {content: \"▸\";float: left;margin-right: 0.25em;color: #696969;}#sk-container-id-1 label.sk-toggleable__label-arrow:hover:before {color: black;}#sk-container-id-1 div.sk-estimator:hover label.sk-toggleable__label-arrow:before {color: black;}#sk-container-id-1 div.sk-toggleable__content {max-height: 0;max-width: 0;overflow: hidden;text-align: left;background-color: #f0f8ff;}#sk-container-id-1 div.sk-toggleable__content pre {margin: 0.2em;color: black;border-radius: 0.25em;background-color: #f0f8ff;}#sk-container-id-1 input.sk-toggleable__control:checked~div.sk-toggleable__content {max-height: 200px;max-width: 100%;overflow: auto;}#sk-container-id-1 input.sk-toggleable__control:checked~label.sk-toggleable__label-arrow:before {content: \"▾\";}#sk-container-id-1 div.sk-estimator input.sk-toggleable__control:checked~label.sk-toggleable__label {background-color: #d4ebff;}#sk-container-id-1 div.sk-label input.sk-toggleable__control:checked~label.sk-toggleable__label {background-color: #d4ebff;}#sk-container-id-1 input.sk-hidden--visually {border: 0;clip: rect(1px 1px 1px 1px);clip: rect(1px, 1px, 1px, 1px);height: 1px;margin: -1px;overflow: hidden;padding: 0;position: absolute;width: 1px;}#sk-container-id-1 div.sk-estimator {font-family: monospace;background-color: #f0f8ff;border: 1px dotted black;border-radius: 0.25em;box-sizing: border-box;margin-bottom: 0.5em;}#sk-container-id-1 div.sk-estimator:hover {background-color: #d4ebff;}#sk-container-id-1 div.sk-parallel-item::after {content: \"\";width: 100%;border-bottom: 1px solid gray;flex-grow: 1;}#sk-container-id-1 div.sk-label:hover label.sk-toggleable__label {background-color: #d4ebff;}#sk-container-id-1 div.sk-serial::before {content: \"\";position: absolute;border-left: 1px solid gray;box-sizing: border-box;top: 0;bottom: 0;left: 50%;z-index: 0;}#sk-container-id-1 div.sk-serial {display: flex;flex-direction: column;align-items: center;background-color: white;padding-right: 0.2em;padding-left: 0.2em;position: relative;}#sk-container-id-1 div.sk-item {position: relative;z-index: 1;}#sk-container-id-1 div.sk-parallel {display: flex;align-items: stretch;justify-content: center;background-color: white;position: relative;}#sk-container-id-1 div.sk-item::before, #sk-container-id-1 div.sk-parallel-item::before {content: \"\";position: absolute;border-left: 1px solid gray;box-sizing: border-box;top: 0;bottom: 0;left: 50%;z-index: -1;}#sk-container-id-1 div.sk-parallel-item {display: flex;flex-direction: column;z-index: 1;position: relative;background-color: white;}#sk-container-id-1 div.sk-parallel-item:first-child::after {align-self: flex-end;width: 50%;}#sk-container-id-1 div.sk-parallel-item:last-child::after {align-self: flex-start;width: 50%;}#sk-container-id-1 div.sk-parallel-item:only-child::after {width: 0;}#sk-container-id-1 div.sk-dashed-wrapped {border: 1px dashed gray;margin: 0 0.4em 0.5em 0.4em;box-sizing: border-box;padding-bottom: 0.4em;background-color: white;}#sk-container-id-1 div.sk-label label {font-family: monospace;font-weight: bold;display: inline-block;line-height: 1.2em;}#sk-container-id-1 div.sk-label-container {text-align: center;}#sk-container-id-1 div.sk-container {/* jupyter's `normalize.less` sets `[hidden] { display: none; }` but bootstrap.min.css set `[hidden] { display: none !important; }` so we also need the `!important` here to be able to override the default hidden behavior on the sphinx rendered scikit-learn.org. See: https://github.com/scikit-learn/scikit-learn/issues/21755 */display: inline-block !important;position: relative;}#sk-container-id-1 div.sk-text-repr-fallback {display: none;}</style><div id=\"sk-container-id-1\" class=\"sk-top-container\"><div class=\"sk-text-repr-fallback\"><pre>SVC(kernel=&#x27;linear&#x27;, random_state=42, verbose=True)</pre><b>In a Jupyter environment, please rerun this cell to show the HTML representation or trust the notebook. <br />On GitHub, the HTML representation is unable to render, please try loading this page with nbviewer.org.</b></div><div class=\"sk-container\" hidden><div class=\"sk-item\"><div class=\"sk-estimator sk-toggleable\"><input class=\"sk-toggleable__control sk-hidden--visually\" id=\"sk-estimator-id-1\" type=\"checkbox\" checked><label for=\"sk-estimator-id-1\" class=\"sk-toggleable__label sk-toggleable__label-arrow\">SVC</label><div class=\"sk-toggleable__content\"><pre>SVC(kernel=&#x27;linear&#x27;, random_state=42, verbose=True)</pre></div></div></div></div></div>"
      ],
      "text/plain": [
       "SVC(kernel='linear', random_state=42, verbose=True)"
      ]
     },
     "execution_count": 8,
     "metadata": {},
     "output_type": "execute_result"
    }
   ],
   "source": [
    "svm_model = SVC(kernel='linear', probability=False, random_state=42, verbose=True)\n",
    "svm_model.fit(X_train, y_train)"
   ]
  },
  {
   "cell_type": "code",
   "execution_count": 12,
   "id": "f016e689-6ffb-4792-bd0d-036bb5af24ef",
   "metadata": {},
   "outputs": [],
   "source": [
    "y_pred = svm_model.predict(X_test)"
   ]
  },
  {
   "cell_type": "code",
   "execution_count": 14,
   "id": "64cb38cf-d517-4ab4-baec-860e65a07059",
   "metadata": {},
   "outputs": [
    {
     "name": "stdout",
     "output_type": "stream",
     "text": [
      "Accuracy: 0.682583478799482\n",
      "Confusion Matrix:\n",
      " [[ 7438 31280]\n",
      " [ 2542 65294]]\n",
      "Classification Report:\n",
      "               precision    recall  f1-score   support\n",
      "\n",
      "           0       0.75      0.19      0.31     38718\n",
      "           1       0.68      0.96      0.79     67836\n",
      "\n",
      "    accuracy                           0.68    106554\n",
      "   macro avg       0.71      0.58      0.55    106554\n",
      "weighted avg       0.70      0.68      0.62    106554\n",
      "\n"
     ]
    }
   ],
   "source": [
    "print(\"Accuracy:\", accuracy_score(y_test, y_pred))\n",
    "print(\"Confusion Matrix:\\n\", confusion_matrix(y_test, y_pred))\n",
    "print(\"Classification Report:\\n\", classification_report(y_test, y_pred))"
   ]
  },
  {
   "cell_type": "code",
   "execution_count": 15,
   "id": "8dcd327e-2f6b-4c69-8e73-3446a0bc8ca7",
   "metadata": {},
   "outputs": [],
   "source": [
    "# ANN Model"
   ]
  },
  {
   "cell_type": "code",
   "execution_count": 16,
   "id": "8155afdb-74fb-4e18-8ae0-14d0c1b9866f",
   "metadata": {},
   "outputs": [],
   "source": [
    "from tensorflow.keras.models import Sequential\n",
    "from tensorflow.keras.layers import Dense"
   ]
  },
  {
   "cell_type": "code",
   "execution_count": 26,
   "id": "a4a3dc7d-92f8-4499-9d0f-1d96ca1ecffe",
   "metadata": {},
   "outputs": [],
   "source": [
    "ann_model = Sequential([\n",
    "    Dense(units=32, activation='relu', input_shape=(X.shape[1],)),\n",
    "    Dense(units=16, activation='relu'),\n",
    "    Dense(units=1, activation='sigmoid')  # Sortie binaire\n",
    "])"
   ]
  },
  {
   "cell_type": "code",
   "execution_count": 27,
   "id": "6b2558e1-e823-4707-88d0-a747a155dfbb",
   "metadata": {},
   "outputs": [],
   "source": [
    "ann_model.compile(optimizer='adam', loss='binary_crossentropy', metrics=['accuracy'])"
   ]
  },
  {
   "cell_type": "code",
   "execution_count": 28,
   "id": "6d70a7e0-d31b-41aa-acc4-9f51d0b1d671",
   "metadata": {},
   "outputs": [
    {
     "name": "stdout",
     "output_type": "stream",
     "text": [
      "Epoch 1/10\n",
      "13320/13320 [==============================] - 11s 781us/step - loss: 0.6274 - accuracy: 0.6443 - val_loss: 0.6036 - val_accuracy: 0.6945\n",
      "Epoch 2/10\n",
      "13320/13320 [==============================] - 11s 792us/step - loss: 0.6134 - accuracy: 0.6594 - val_loss: 0.6032 - val_accuracy: 0.7000\n",
      "Epoch 3/10\n",
      "13320/13320 [==============================] - 10s 779us/step - loss: 0.6080 - accuracy: 0.6629 - val_loss: 0.5967 - val_accuracy: 0.7070\n",
      "Epoch 4/10\n",
      "13320/13320 [==============================] - 10s 768us/step - loss: 0.6019 - accuracy: 0.6668 - val_loss: 0.5930 - val_accuracy: 0.7151\n",
      "Epoch 5/10\n",
      "13320/13320 [==============================] - 10s 783us/step - loss: 0.5963 - accuracy: 0.6720 - val_loss: 0.5934 - val_accuracy: 0.7011\n",
      "Epoch 6/10\n",
      "13320/13320 [==============================] - 10s 772us/step - loss: 0.5922 - accuracy: 0.6752 - val_loss: 0.5871 - val_accuracy: 0.6993\n",
      "Epoch 7/10\n",
      "13320/13320 [==============================] - 10s 778us/step - loss: 0.5895 - accuracy: 0.6773 - val_loss: 0.5884 - val_accuracy: 0.7039\n",
      "Epoch 8/10\n",
      "13320/13320 [==============================] - 10s 783us/step - loss: 0.5871 - accuracy: 0.6798 - val_loss: 0.5854 - val_accuracy: 0.6979\n",
      "Epoch 9/10\n",
      "13320/13320 [==============================] - 10s 769us/step - loss: 0.5857 - accuracy: 0.6808 - val_loss: 0.5827 - val_accuracy: 0.7068\n",
      "Epoch 10/10\n",
      "13320/13320 [==============================] - 10s 775us/step - loss: 0.5847 - accuracy: 0.6822 - val_loss: 0.5846 - val_accuracy: 0.7033\n"
     ]
    },
    {
     "data": {
      "text/plain": [
       "<keras.src.callbacks.History at 0x15a8fa0a700>"
      ]
     },
     "execution_count": 28,
     "metadata": {},
     "output_type": "execute_result"
    }
   ],
   "source": [
    "ann_model.fit(X_train, y_train, epochs=10, batch_size=32, verbose=1, validation_data=(X_test, y_test))"
   ]
  },
  {
   "cell_type": "code",
   "execution_count": 29,
   "id": "25e08abd-c2be-49e2-8e93-f7756e983f71",
   "metadata": {},
   "outputs": [
    {
     "name": "stdout",
     "output_type": "stream",
     "text": [
      "3330/3330 [==============================] - 2s 469us/step\n",
      "Accuracy: 0.7033053662931471\n",
      "Confusion Matrix:\n",
      " [[11766 26952]\n",
      " [ 4662 63174]]\n",
      "Classification Report:\n",
      "               precision    recall  f1-score   support\n",
      "\n",
      "           0       0.72      0.30      0.43     38718\n",
      "           1       0.70      0.93      0.80     67836\n",
      "\n",
      "    accuracy                           0.70    106554\n",
      "   macro avg       0.71      0.62      0.61    106554\n",
      "weighted avg       0.71      0.70      0.66    106554\n",
      "\n"
     ]
    }
   ],
   "source": [
    "y_pred_ann = (ann_model.predict(X_test) > 0.5).astype(int).flatten()\n",
    "print(\"Accuracy:\", accuracy_score(y_test, y_pred_ann))\n",
    "print(\"Confusion Matrix:\\n\", confusion_matrix(y_test, y_pred_ann))\n",
    "print(\"Classification Report:\\n\", classification_report(y_test, y_pred_ann))"
   ]
  },
  {
   "cell_type": "code",
   "execution_count": 30,
   "id": "a8202407-44f8-49cf-8536-81cd887e9455",
   "metadata": {},
   "outputs": [],
   "source": [
    "# Code stacking (SVR)"
   ]
  },
  {
   "cell_type": "code",
   "execution_count": 31,
   "id": "a7663172-22b3-482c-9b78-29dc1b67d535",
   "metadata": {},
   "outputs": [],
   "source": [
    "# Import\n",
    "from sklearn.svm import SVR\n",
    "from sklearn.metrics import mean_squared_error"
   ]
  },
  {
   "cell_type": "code",
   "execution_count": 32,
   "id": "8576aeb1-be7d-4c4a-b73e-d826480d77b4",
   "metadata": {},
   "outputs": [
    {
     "name": "stdout",
     "output_type": "stream",
     "text": [
      "3330/3330 [==============================] - 2s 470us/step\n"
     ]
    }
   ],
   "source": [
    "# Obtenir les prédictions des deux modèles\n",
    "ann_preds = ann_model.predict(X_test).flatten()\n",
    "svm_preds = svm_model.decision_function(X_test)"
   ]
  },
  {
   "cell_type": "code",
   "execution_count": 35,
   "id": "bbe49286-f055-4d19-ab41-807de5afa0d7",
   "metadata": {},
   "outputs": [],
   "source": [
    "# Créer les ebtrées du modèle d'ensemble (stacking)\n",
    "stacked_inputs = np.column_stack((ann_preds, svm_preds))"
   ]
  },
  {
   "cell_type": "code",
   "execution_count": 36,
   "id": "9a0032a9-ee4c-498b-9ad7-fc6badd094b9",
   "metadata": {},
   "outputs": [
    {
     "data": {
      "text/html": [
       "<style>#sk-container-id-2 {color: black;}#sk-container-id-2 pre{padding: 0;}#sk-container-id-2 div.sk-toggleable {background-color: white;}#sk-container-id-2 label.sk-toggleable__label {cursor: pointer;display: block;width: 100%;margin-bottom: 0;padding: 0.3em;box-sizing: border-box;text-align: center;}#sk-container-id-2 label.sk-toggleable__label-arrow:before {content: \"▸\";float: left;margin-right: 0.25em;color: #696969;}#sk-container-id-2 label.sk-toggleable__label-arrow:hover:before {color: black;}#sk-container-id-2 div.sk-estimator:hover label.sk-toggleable__label-arrow:before {color: black;}#sk-container-id-2 div.sk-toggleable__content {max-height: 0;max-width: 0;overflow: hidden;text-align: left;background-color: #f0f8ff;}#sk-container-id-2 div.sk-toggleable__content pre {margin: 0.2em;color: black;border-radius: 0.25em;background-color: #f0f8ff;}#sk-container-id-2 input.sk-toggleable__control:checked~div.sk-toggleable__content {max-height: 200px;max-width: 100%;overflow: auto;}#sk-container-id-2 input.sk-toggleable__control:checked~label.sk-toggleable__label-arrow:before {content: \"▾\";}#sk-container-id-2 div.sk-estimator input.sk-toggleable__control:checked~label.sk-toggleable__label {background-color: #d4ebff;}#sk-container-id-2 div.sk-label input.sk-toggleable__control:checked~label.sk-toggleable__label {background-color: #d4ebff;}#sk-container-id-2 input.sk-hidden--visually {border: 0;clip: rect(1px 1px 1px 1px);clip: rect(1px, 1px, 1px, 1px);height: 1px;margin: -1px;overflow: hidden;padding: 0;position: absolute;width: 1px;}#sk-container-id-2 div.sk-estimator {font-family: monospace;background-color: #f0f8ff;border: 1px dotted black;border-radius: 0.25em;box-sizing: border-box;margin-bottom: 0.5em;}#sk-container-id-2 div.sk-estimator:hover {background-color: #d4ebff;}#sk-container-id-2 div.sk-parallel-item::after {content: \"\";width: 100%;border-bottom: 1px solid gray;flex-grow: 1;}#sk-container-id-2 div.sk-label:hover label.sk-toggleable__label {background-color: #d4ebff;}#sk-container-id-2 div.sk-serial::before {content: \"\";position: absolute;border-left: 1px solid gray;box-sizing: border-box;top: 0;bottom: 0;left: 50%;z-index: 0;}#sk-container-id-2 div.sk-serial {display: flex;flex-direction: column;align-items: center;background-color: white;padding-right: 0.2em;padding-left: 0.2em;position: relative;}#sk-container-id-2 div.sk-item {position: relative;z-index: 1;}#sk-container-id-2 div.sk-parallel {display: flex;align-items: stretch;justify-content: center;background-color: white;position: relative;}#sk-container-id-2 div.sk-item::before, #sk-container-id-2 div.sk-parallel-item::before {content: \"\";position: absolute;border-left: 1px solid gray;box-sizing: border-box;top: 0;bottom: 0;left: 50%;z-index: -1;}#sk-container-id-2 div.sk-parallel-item {display: flex;flex-direction: column;z-index: 1;position: relative;background-color: white;}#sk-container-id-2 div.sk-parallel-item:first-child::after {align-self: flex-end;width: 50%;}#sk-container-id-2 div.sk-parallel-item:last-child::after {align-self: flex-start;width: 50%;}#sk-container-id-2 div.sk-parallel-item:only-child::after {width: 0;}#sk-container-id-2 div.sk-dashed-wrapped {border: 1px dashed gray;margin: 0 0.4em 0.5em 0.4em;box-sizing: border-box;padding-bottom: 0.4em;background-color: white;}#sk-container-id-2 div.sk-label label {font-family: monospace;font-weight: bold;display: inline-block;line-height: 1.2em;}#sk-container-id-2 div.sk-label-container {text-align: center;}#sk-container-id-2 div.sk-container {/* jupyter's `normalize.less` sets `[hidden] { display: none; }` but bootstrap.min.css set `[hidden] { display: none !important; }` so we also need the `!important` here to be able to override the default hidden behavior on the sphinx rendered scikit-learn.org. See: https://github.com/scikit-learn/scikit-learn/issues/21755 */display: inline-block !important;position: relative;}#sk-container-id-2 div.sk-text-repr-fallback {display: none;}</style><div id=\"sk-container-id-2\" class=\"sk-top-container\"><div class=\"sk-text-repr-fallback\"><pre>SVR()</pre><b>In a Jupyter environment, please rerun this cell to show the HTML representation or trust the notebook. <br />On GitHub, the HTML representation is unable to render, please try loading this page with nbviewer.org.</b></div><div class=\"sk-container\" hidden><div class=\"sk-item\"><div class=\"sk-estimator sk-toggleable\"><input class=\"sk-toggleable__control sk-hidden--visually\" id=\"sk-estimator-id-2\" type=\"checkbox\" checked><label for=\"sk-estimator-id-2\" class=\"sk-toggleable__label sk-toggleable__label-arrow\">SVR</label><div class=\"sk-toggleable__content\"><pre>SVR()</pre></div></div></div></div></div>"
      ],
      "text/plain": [
       "SVR()"
      ]
     },
     "execution_count": 36,
     "metadata": {},
     "output_type": "execute_result"
    }
   ],
   "source": [
    "# Entrîner le modèle méta (SVR)\n",
    "meta_model = SVR()\n",
    "meta_model.fit(stacked_inputs, y_test)"
   ]
  },
  {
   "cell_type": "code",
   "execution_count": 37,
   "id": "cabd4299-e9f1-4a69-9677-5382a1f2d01f",
   "metadata": {},
   "outputs": [],
   "source": [
    "# Prédictions finales\n",
    "final_preds = meta_model.predict(stacked_inputs)"
   ]
  },
  {
   "cell_type": "code",
   "execution_count": 38,
   "id": "ea2a48e7-e122-478c-b3b0-e616b42b398f",
   "metadata": {},
   "outputs": [
    {
     "name": "stdout",
     "output_type": "stream",
     "text": [
      "MSE du modèle de stacking (SVR): 0.2302570881338598\n",
      "Prédictions (extrait): [0.83940172 0.84363787 0.84772244 0.85165719 0.8554441  0.85908524\n",
      " 0.86258261 0.86593839 0.86915482 0.87223426]\n"
     ]
    }
   ],
   "source": [
    "# Evaluation\n",
    "mse = mean_squared_error(y_test, final_preds)\n",
    "print(\"MSE du modèle de stacking (SVR):\", mse)\n",
    "print(\"Prédictions (extrait):\", final_preds[:10])"
   ]
  },
  {
   "cell_type": "code",
   "execution_count": 43,
   "id": "553fbd75-6b93-4fea-a083-c0b0f526995d",
   "metadata": {},
   "outputs": [
    {
     "name": "stdout",
     "output_type": "stream",
     "text": [
      "Accuracy stacking SVR : 0.7080165925258555\n",
      "Confusing Maxtric:\n",
      " [[12213 26505]\n",
      " [ 4607 63229]]\n",
      "Classification Report:\n",
      "               precision    recall  f1-score   support\n",
      "\n",
      "           0       0.73      0.32      0.44     38718\n",
      "           1       0.70      0.93      0.80     67836\n",
      "\n",
      "    accuracy                           0.71    106554\n",
      "   macro avg       0.72      0.62      0.62    106554\n",
      "weighted avg       0.71      0.71      0.67    106554\n",
      "\n"
     ]
    }
   ],
   "source": [
    "final_preds_binary = (final_preds >= 0.5).astype(int)\n",
    "\n",
    "# Accuracy\n",
    "accuracy = accuracy_score(y_test, final_preds_binary)\n",
    "print(\"Accuracy stacking SVR :\", accuracy)\n",
    "\n",
    "# Evaluation complète\n",
    "print(\"Confusing Maxtric:\\n\", confusion_matrix(y_test, final_preds_binary))\n",
    "print(\"Classification Report:\\n\", classification_report(y_test, final_preds_binary))"
   ]
  },
  {
   "cell_type": "code",
   "execution_count": null,
   "id": "3234b6c2-fb77-4a27-91eb-74d7a6bd287c",
   "metadata": {},
   "outputs": [],
   "source": []
  }
 ],
 "metadata": {
  "kernelspec": {
   "display_name": "Python (tf3.8)",
   "language": "python",
   "name": "tf3.8"
  },
  "language_info": {
   "codemirror_mode": {
    "name": "ipython",
    "version": 3
   },
   "file_extension": ".py",
   "mimetype": "text/x-python",
   "name": "python",
   "nbconvert_exporter": "python",
   "pygments_lexer": "ipython3",
   "version": "3.8.20"
  }
 },
 "nbformat": 4,
 "nbformat_minor": 5
}
